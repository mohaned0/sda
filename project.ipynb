{
 "cells": [
  {
   "cell_type": "markdown",
   "metadata": {},
   "source": [
    "<img src=\"http://cfs22.simplicdn.net/ice9/new_logo.svgz \"/>\n",
    "\n",
    "# Perform a service request data analysis of New York City 311 calls\n",
    "\n",
    "*NYC 311's mission is to provide the public with quick and easy access to all New York City government services and information while offering the best customer service. Each day, NYC311 receives thousands of requests related to several hundred types of non-emergency services, including noise complaints, plumbing issues, and illegally parked cars. These requests are received by NYC311 and forwarded to the relevant agencies such as the police, buildings, or transportation. The agency responds to the request, addresses it, and then closes it.*\n",
    "\n",
    "**Happy coding!**\n",
    "\n",
    "* * *"
   ]
  },
  {
   "cell_type": "markdown",
   "metadata": {},
   "source": [
    "#### Problem Objective :\n",
    "\n",
    "*Perform a service request data analysis of New York City 311 calls. You will focus on the data wrangling techniques to understand the pattern in the data and also visualize the major complaint types.\n",
    "Domain: Customer Service*"
   ]
  },
  {
   "cell_type": "markdown",
   "metadata": {},
   "source": [
    "#### Analysis Tasks to be performed:\n",
    "\n",
    "* (Perform a service request data analysis of New York City 311 calls) \n",
    "\n",
    "1. Import a 311 NYC service request.\n",
    "2. Read or convert the columns ‘Created Date’ and Closed Date’ to datetime datatype and create a new column ‘Request_Closing_Time’ as the time elapsed between request creation and request closing. (Hint: Explore the package/module datetime)\n",
    "3. Provide major insights/patterns that you can offer in a visual format (graphs or tables); at least 4 major conclusions that you can come up with after generic data mining.\n",
    "4. Order the complaint types based on the average ‘Request_Closing_Time’, grouping them for different locations.\n",
    "5. Perform a statistical test for the following:\n",
    "Please note: For the below statements you need to state the Null and Alternate and then provide a statistical test to accept or reject the Null Hypothesis along with the corresponding ‘p-value’.\n",
    "\n",
    "Whether the average response time across complaint types is similar or not (overall)\n",
    "Are the type of complaint or service requested and location related? *"
   ]
  },
  {
   "cell_type": "markdown",
   "metadata": {},
   "source": [
    "#### 1: Import the dataset"
   ]
  },
  {
   "cell_type": "code",
   "execution_count": 1,
   "metadata": {},
   "outputs": [],
   "source": [
    "import pandas as pd\n",
    "import numpy as np\n",
    "from datetime import datetime \n",
    "from scipy import stats\n",
    "from scipy.stats import chi2_contingency \n",
    "import statsmodels.api as sm\n",
    "from statsmodels.formula.api import ols\n",
    "import matplotlib.pyplot as plt\n",
    "import seaborn as sns\n",
    "import warnings\n",
    "warnings.filterwarnings(\"ignore\")\n",
    "from IPython.display import display\n",
    "pd.set_option('display.max_columns', None)\n",
    "%matplotlib inline"
   ]
  },
  {
   "cell_type": "markdown",
   "metadata": {},
   "source": [
    "#### 2: Loading the data"
   ]
  },
  {
   "cell_type": "code",
   "execution_count": 2,
   "metadata": {},
   "outputs": [],
   "source": [
    "# read the dataset \n",
    "service = pd.read_csv('311_Service_Requests_from_2010_to_Present.csv')"
   ]
  },
  {
   "cell_type": "markdown",
   "metadata": {},
   "source": [
    "#### 3: View the first 5 and 5 last from data\n"
   ]
  },
  {
   "cell_type": "code",
   "execution_count": 3,
   "metadata": {
    "scrolled": false
   },
   "outputs": [
    {
     "data": {
      "text/html": [
       "<div>\n",
       "<style scoped>\n",
       "    .dataframe tbody tr th:only-of-type {\n",
       "        vertical-align: middle;\n",
       "    }\n",
       "\n",
       "    .dataframe tbody tr th {\n",
       "        vertical-align: top;\n",
       "    }\n",
       "\n",
       "    .dataframe thead th {\n",
       "        text-align: right;\n",
       "    }\n",
       "</style>\n",
       "<table border=\"1\" class=\"dataframe\">\n",
       "  <thead>\n",
       "    <tr style=\"text-align: right;\">\n",
       "      <th></th>\n",
       "      <th>Unique Key</th>\n",
       "      <th>Created Date</th>\n",
       "      <th>Closed Date</th>\n",
       "      <th>Agency</th>\n",
       "      <th>Agency Name</th>\n",
       "      <th>Complaint Type</th>\n",
       "      <th>Descriptor</th>\n",
       "      <th>Location Type</th>\n",
       "      <th>Incident Zip</th>\n",
       "      <th>Incident Address</th>\n",
       "      <th>Street Name</th>\n",
       "      <th>Cross Street 1</th>\n",
       "      <th>Cross Street 2</th>\n",
       "      <th>Intersection Street 1</th>\n",
       "      <th>Intersection Street 2</th>\n",
       "      <th>Address Type</th>\n",
       "      <th>City</th>\n",
       "      <th>Landmark</th>\n",
       "      <th>Facility Type</th>\n",
       "      <th>Status</th>\n",
       "      <th>Due Date</th>\n",
       "      <th>Resolution Description</th>\n",
       "      <th>Resolution Action Updated Date</th>\n",
       "      <th>Community Board</th>\n",
       "      <th>Borough</th>\n",
       "      <th>X Coordinate (State Plane)</th>\n",
       "      <th>Y Coordinate (State Plane)</th>\n",
       "      <th>Park Facility Name</th>\n",
       "      <th>Park Borough</th>\n",
       "      <th>School Name</th>\n",
       "      <th>School Number</th>\n",
       "      <th>School Region</th>\n",
       "      <th>School Code</th>\n",
       "      <th>School Phone Number</th>\n",
       "      <th>School Address</th>\n",
       "      <th>School City</th>\n",
       "      <th>School State</th>\n",
       "      <th>School Zip</th>\n",
       "      <th>School Not Found</th>\n",
       "      <th>School or Citywide Complaint</th>\n",
       "      <th>Vehicle Type</th>\n",
       "      <th>Taxi Company Borough</th>\n",
       "      <th>Taxi Pick Up Location</th>\n",
       "      <th>Bridge Highway Name</th>\n",
       "      <th>Bridge Highway Direction</th>\n",
       "      <th>Road Ramp</th>\n",
       "      <th>Bridge Highway Segment</th>\n",
       "      <th>Garage Lot Name</th>\n",
       "      <th>Ferry Direction</th>\n",
       "      <th>Ferry Terminal Name</th>\n",
       "      <th>Latitude</th>\n",
       "      <th>Longitude</th>\n",
       "      <th>Location</th>\n",
       "    </tr>\n",
       "  </thead>\n",
       "  <tbody>\n",
       "    <tr>\n",
       "      <td>0</td>\n",
       "      <td>32310363</td>\n",
       "      <td>12/31/2015 11:59:45 PM</td>\n",
       "      <td>01-01-16 0:55</td>\n",
       "      <td>NYPD</td>\n",
       "      <td>New York City Police Department</td>\n",
       "      <td>Noise - Street/Sidewalk</td>\n",
       "      <td>Loud Music/Party</td>\n",
       "      <td>Street/Sidewalk</td>\n",
       "      <td>10034.0</td>\n",
       "      <td>71 VERMILYEA AVENUE</td>\n",
       "      <td>VERMILYEA AVENUE</td>\n",
       "      <td>ACADEMY STREET</td>\n",
       "      <td>WEST 204 STREET</td>\n",
       "      <td>NaN</td>\n",
       "      <td>NaN</td>\n",
       "      <td>ADDRESS</td>\n",
       "      <td>NEW YORK</td>\n",
       "      <td>NaN</td>\n",
       "      <td>Precinct</td>\n",
       "      <td>Closed</td>\n",
       "      <td>01-01-16 7:59</td>\n",
       "      <td>The Police Department responded and upon arriv...</td>\n",
       "      <td>01-01-16 0:55</td>\n",
       "      <td>12 MANHATTAN</td>\n",
       "      <td>MANHATTAN</td>\n",
       "      <td>1005409.0</td>\n",
       "      <td>254678.0</td>\n",
       "      <td>Unspecified</td>\n",
       "      <td>MANHATTAN</td>\n",
       "      <td>Unspecified</td>\n",
       "      <td>Unspecified</td>\n",
       "      <td>Unspecified</td>\n",
       "      <td>Unspecified</td>\n",
       "      <td>Unspecified</td>\n",
       "      <td>Unspecified</td>\n",
       "      <td>Unspecified</td>\n",
       "      <td>Unspecified</td>\n",
       "      <td>Unspecified</td>\n",
       "      <td>N</td>\n",
       "      <td>NaN</td>\n",
       "      <td>NaN</td>\n",
       "      <td>NaN</td>\n",
       "      <td>NaN</td>\n",
       "      <td>NaN</td>\n",
       "      <td>NaN</td>\n",
       "      <td>NaN</td>\n",
       "      <td>NaN</td>\n",
       "      <td>NaN</td>\n",
       "      <td>NaN</td>\n",
       "      <td>NaN</td>\n",
       "      <td>40.865682</td>\n",
       "      <td>-73.923501</td>\n",
       "      <td>(40.86568153633767, -73.92350095571744)</td>\n",
       "    </tr>\n",
       "    <tr>\n",
       "      <td>1</td>\n",
       "      <td>32309934</td>\n",
       "      <td>12/31/2015 11:59:44 PM</td>\n",
       "      <td>01-01-16 1:26</td>\n",
       "      <td>NYPD</td>\n",
       "      <td>New York City Police Department</td>\n",
       "      <td>Blocked Driveway</td>\n",
       "      <td>No Access</td>\n",
       "      <td>Street/Sidewalk</td>\n",
       "      <td>11105.0</td>\n",
       "      <td>27-07 23 AVENUE</td>\n",
       "      <td>23 AVENUE</td>\n",
       "      <td>27 STREET</td>\n",
       "      <td>28 STREET</td>\n",
       "      <td>NaN</td>\n",
       "      <td>NaN</td>\n",
       "      <td>ADDRESS</td>\n",
       "      <td>ASTORIA</td>\n",
       "      <td>NaN</td>\n",
       "      <td>Precinct</td>\n",
       "      <td>Closed</td>\n",
       "      <td>01-01-16 7:59</td>\n",
       "      <td>The Police Department responded to the complai...</td>\n",
       "      <td>01-01-16 1:26</td>\n",
       "      <td>01 QUEENS</td>\n",
       "      <td>QUEENS</td>\n",
       "      <td>1007766.0</td>\n",
       "      <td>221986.0</td>\n",
       "      <td>Unspecified</td>\n",
       "      <td>QUEENS</td>\n",
       "      <td>Unspecified</td>\n",
       "      <td>Unspecified</td>\n",
       "      <td>Unspecified</td>\n",
       "      <td>Unspecified</td>\n",
       "      <td>Unspecified</td>\n",
       "      <td>Unspecified</td>\n",
       "      <td>Unspecified</td>\n",
       "      <td>Unspecified</td>\n",
       "      <td>Unspecified</td>\n",
       "      <td>N</td>\n",
       "      <td>NaN</td>\n",
       "      <td>NaN</td>\n",
       "      <td>NaN</td>\n",
       "      <td>NaN</td>\n",
       "      <td>NaN</td>\n",
       "      <td>NaN</td>\n",
       "      <td>NaN</td>\n",
       "      <td>NaN</td>\n",
       "      <td>NaN</td>\n",
       "      <td>NaN</td>\n",
       "      <td>NaN</td>\n",
       "      <td>40.775945</td>\n",
       "      <td>-73.915094</td>\n",
       "      <td>(40.775945312321085, -73.91509393898605)</td>\n",
       "    </tr>\n",
       "    <tr>\n",
       "      <td>2</td>\n",
       "      <td>32309159</td>\n",
       "      <td>12/31/2015 11:59:29 PM</td>\n",
       "      <td>01-01-16 4:51</td>\n",
       "      <td>NYPD</td>\n",
       "      <td>New York City Police Department</td>\n",
       "      <td>Blocked Driveway</td>\n",
       "      <td>No Access</td>\n",
       "      <td>Street/Sidewalk</td>\n",
       "      <td>10458.0</td>\n",
       "      <td>2897 VALENTINE AVENUE</td>\n",
       "      <td>VALENTINE AVENUE</td>\n",
       "      <td>EAST 198 STREET</td>\n",
       "      <td>EAST 199 STREET</td>\n",
       "      <td>NaN</td>\n",
       "      <td>NaN</td>\n",
       "      <td>ADDRESS</td>\n",
       "      <td>BRONX</td>\n",
       "      <td>NaN</td>\n",
       "      <td>Precinct</td>\n",
       "      <td>Closed</td>\n",
       "      <td>01-01-16 7:59</td>\n",
       "      <td>The Police Department responded and upon arriv...</td>\n",
       "      <td>01-01-16 4:51</td>\n",
       "      <td>07 BRONX</td>\n",
       "      <td>BRONX</td>\n",
       "      <td>1015081.0</td>\n",
       "      <td>256380.0</td>\n",
       "      <td>Unspecified</td>\n",
       "      <td>BRONX</td>\n",
       "      <td>Unspecified</td>\n",
       "      <td>Unspecified</td>\n",
       "      <td>Unspecified</td>\n",
       "      <td>Unspecified</td>\n",
       "      <td>Unspecified</td>\n",
       "      <td>Unspecified</td>\n",
       "      <td>Unspecified</td>\n",
       "      <td>Unspecified</td>\n",
       "      <td>Unspecified</td>\n",
       "      <td>N</td>\n",
       "      <td>NaN</td>\n",
       "      <td>NaN</td>\n",
       "      <td>NaN</td>\n",
       "      <td>NaN</td>\n",
       "      <td>NaN</td>\n",
       "      <td>NaN</td>\n",
       "      <td>NaN</td>\n",
       "      <td>NaN</td>\n",
       "      <td>NaN</td>\n",
       "      <td>NaN</td>\n",
       "      <td>NaN</td>\n",
       "      <td>40.870325</td>\n",
       "      <td>-73.888525</td>\n",
       "      <td>(40.870324522111424, -73.88852464418646)</td>\n",
       "    </tr>\n",
       "    <tr>\n",
       "      <td>3</td>\n",
       "      <td>32305098</td>\n",
       "      <td>12/31/2015 11:57:46 PM</td>\n",
       "      <td>01-01-16 7:43</td>\n",
       "      <td>NYPD</td>\n",
       "      <td>New York City Police Department</td>\n",
       "      <td>Illegal Parking</td>\n",
       "      <td>Commercial Overnight Parking</td>\n",
       "      <td>Street/Sidewalk</td>\n",
       "      <td>10461.0</td>\n",
       "      <td>2940 BAISLEY AVENUE</td>\n",
       "      <td>BAISLEY AVENUE</td>\n",
       "      <td>EDISON AVENUE</td>\n",
       "      <td>B STREET</td>\n",
       "      <td>NaN</td>\n",
       "      <td>NaN</td>\n",
       "      <td>ADDRESS</td>\n",
       "      <td>BRONX</td>\n",
       "      <td>NaN</td>\n",
       "      <td>Precinct</td>\n",
       "      <td>Closed</td>\n",
       "      <td>01-01-16 7:57</td>\n",
       "      <td>The Police Department responded to the complai...</td>\n",
       "      <td>01-01-16 7:43</td>\n",
       "      <td>10 BRONX</td>\n",
       "      <td>BRONX</td>\n",
       "      <td>1031740.0</td>\n",
       "      <td>243899.0</td>\n",
       "      <td>Unspecified</td>\n",
       "      <td>BRONX</td>\n",
       "      <td>Unspecified</td>\n",
       "      <td>Unspecified</td>\n",
       "      <td>Unspecified</td>\n",
       "      <td>Unspecified</td>\n",
       "      <td>Unspecified</td>\n",
       "      <td>Unspecified</td>\n",
       "      <td>Unspecified</td>\n",
       "      <td>Unspecified</td>\n",
       "      <td>Unspecified</td>\n",
       "      <td>N</td>\n",
       "      <td>NaN</td>\n",
       "      <td>NaN</td>\n",
       "      <td>NaN</td>\n",
       "      <td>NaN</td>\n",
       "      <td>NaN</td>\n",
       "      <td>NaN</td>\n",
       "      <td>NaN</td>\n",
       "      <td>NaN</td>\n",
       "      <td>NaN</td>\n",
       "      <td>NaN</td>\n",
       "      <td>NaN</td>\n",
       "      <td>40.835994</td>\n",
       "      <td>-73.828379</td>\n",
       "      <td>(40.83599404683083, -73.82837939584206)</td>\n",
       "    </tr>\n",
       "    <tr>\n",
       "      <td>4</td>\n",
       "      <td>32306529</td>\n",
       "      <td>12/31/2015 11:56:58 PM</td>\n",
       "      <td>01-01-16 3:24</td>\n",
       "      <td>NYPD</td>\n",
       "      <td>New York City Police Department</td>\n",
       "      <td>Illegal Parking</td>\n",
       "      <td>Blocked Sidewalk</td>\n",
       "      <td>Street/Sidewalk</td>\n",
       "      <td>11373.0</td>\n",
       "      <td>87-14 57 ROAD</td>\n",
       "      <td>57 ROAD</td>\n",
       "      <td>SEABURY STREET</td>\n",
       "      <td>HOFFMAN DRIVE</td>\n",
       "      <td>NaN</td>\n",
       "      <td>NaN</td>\n",
       "      <td>ADDRESS</td>\n",
       "      <td>ELMHURST</td>\n",
       "      <td>NaN</td>\n",
       "      <td>Precinct</td>\n",
       "      <td>Closed</td>\n",
       "      <td>01-01-16 7:56</td>\n",
       "      <td>The Police Department responded and upon arriv...</td>\n",
       "      <td>01-01-16 3:24</td>\n",
       "      <td>04 QUEENS</td>\n",
       "      <td>QUEENS</td>\n",
       "      <td>1019123.0</td>\n",
       "      <td>206375.0</td>\n",
       "      <td>Unspecified</td>\n",
       "      <td>QUEENS</td>\n",
       "      <td>Unspecified</td>\n",
       "      <td>Unspecified</td>\n",
       "      <td>Unspecified</td>\n",
       "      <td>Unspecified</td>\n",
       "      <td>Unspecified</td>\n",
       "      <td>Unspecified</td>\n",
       "      <td>Unspecified</td>\n",
       "      <td>Unspecified</td>\n",
       "      <td>Unspecified</td>\n",
       "      <td>N</td>\n",
       "      <td>NaN</td>\n",
       "      <td>NaN</td>\n",
       "      <td>NaN</td>\n",
       "      <td>NaN</td>\n",
       "      <td>NaN</td>\n",
       "      <td>NaN</td>\n",
       "      <td>NaN</td>\n",
       "      <td>NaN</td>\n",
       "      <td>NaN</td>\n",
       "      <td>NaN</td>\n",
       "      <td>NaN</td>\n",
       "      <td>40.733060</td>\n",
       "      <td>-73.874170</td>\n",
       "      <td>(40.733059618956815, -73.87416975810375)</td>\n",
       "    </tr>\n",
       "  </tbody>\n",
       "</table>\n",
       "</div>"
      ],
      "text/plain": [
       "   Unique Key            Created Date    Closed Date Agency  \\\n",
       "0    32310363  12/31/2015 11:59:45 PM  01-01-16 0:55   NYPD   \n",
       "1    32309934  12/31/2015 11:59:44 PM  01-01-16 1:26   NYPD   \n",
       "2    32309159  12/31/2015 11:59:29 PM  01-01-16 4:51   NYPD   \n",
       "3    32305098  12/31/2015 11:57:46 PM  01-01-16 7:43   NYPD   \n",
       "4    32306529  12/31/2015 11:56:58 PM  01-01-16 3:24   NYPD   \n",
       "\n",
       "                       Agency Name           Complaint Type  \\\n",
       "0  New York City Police Department  Noise - Street/Sidewalk   \n",
       "1  New York City Police Department         Blocked Driveway   \n",
       "2  New York City Police Department         Blocked Driveway   \n",
       "3  New York City Police Department          Illegal Parking   \n",
       "4  New York City Police Department          Illegal Parking   \n",
       "\n",
       "                     Descriptor    Location Type  Incident Zip  \\\n",
       "0              Loud Music/Party  Street/Sidewalk       10034.0   \n",
       "1                     No Access  Street/Sidewalk       11105.0   \n",
       "2                     No Access  Street/Sidewalk       10458.0   \n",
       "3  Commercial Overnight Parking  Street/Sidewalk       10461.0   \n",
       "4              Blocked Sidewalk  Street/Sidewalk       11373.0   \n",
       "\n",
       "        Incident Address       Street Name   Cross Street 1   Cross Street 2  \\\n",
       "0    71 VERMILYEA AVENUE  VERMILYEA AVENUE   ACADEMY STREET  WEST 204 STREET   \n",
       "1        27-07 23 AVENUE         23 AVENUE        27 STREET        28 STREET   \n",
       "2  2897 VALENTINE AVENUE  VALENTINE AVENUE  EAST 198 STREET  EAST 199 STREET   \n",
       "3    2940 BAISLEY AVENUE    BAISLEY AVENUE    EDISON AVENUE         B STREET   \n",
       "4          87-14 57 ROAD           57 ROAD   SEABURY STREET    HOFFMAN DRIVE   \n",
       "\n",
       "  Intersection Street 1 Intersection Street 2 Address Type      City Landmark  \\\n",
       "0                   NaN                   NaN      ADDRESS  NEW YORK      NaN   \n",
       "1                   NaN                   NaN      ADDRESS   ASTORIA      NaN   \n",
       "2                   NaN                   NaN      ADDRESS     BRONX      NaN   \n",
       "3                   NaN                   NaN      ADDRESS     BRONX      NaN   \n",
       "4                   NaN                   NaN      ADDRESS  ELMHURST      NaN   \n",
       "\n",
       "  Facility Type  Status       Due Date  \\\n",
       "0      Precinct  Closed  01-01-16 7:59   \n",
       "1      Precinct  Closed  01-01-16 7:59   \n",
       "2      Precinct  Closed  01-01-16 7:59   \n",
       "3      Precinct  Closed  01-01-16 7:57   \n",
       "4      Precinct  Closed  01-01-16 7:56   \n",
       "\n",
       "                              Resolution Description  \\\n",
       "0  The Police Department responded and upon arriv...   \n",
       "1  The Police Department responded to the complai...   \n",
       "2  The Police Department responded and upon arriv...   \n",
       "3  The Police Department responded to the complai...   \n",
       "4  The Police Department responded and upon arriv...   \n",
       "\n",
       "  Resolution Action Updated Date Community Board    Borough  \\\n",
       "0                  01-01-16 0:55    12 MANHATTAN  MANHATTAN   \n",
       "1                  01-01-16 1:26       01 QUEENS     QUEENS   \n",
       "2                  01-01-16 4:51        07 BRONX      BRONX   \n",
       "3                  01-01-16 7:43        10 BRONX      BRONX   \n",
       "4                  01-01-16 3:24       04 QUEENS     QUEENS   \n",
       "\n",
       "   X Coordinate (State Plane)  Y Coordinate (State Plane) Park Facility Name  \\\n",
       "0                   1005409.0                    254678.0        Unspecified   \n",
       "1                   1007766.0                    221986.0        Unspecified   \n",
       "2                   1015081.0                    256380.0        Unspecified   \n",
       "3                   1031740.0                    243899.0        Unspecified   \n",
       "4                   1019123.0                    206375.0        Unspecified   \n",
       "\n",
       "  Park Borough  School Name School Number School Region  School Code  \\\n",
       "0    MANHATTAN  Unspecified   Unspecified   Unspecified  Unspecified   \n",
       "1       QUEENS  Unspecified   Unspecified   Unspecified  Unspecified   \n",
       "2        BRONX  Unspecified   Unspecified   Unspecified  Unspecified   \n",
       "3        BRONX  Unspecified   Unspecified   Unspecified  Unspecified   \n",
       "4       QUEENS  Unspecified   Unspecified   Unspecified  Unspecified   \n",
       "\n",
       "  School Phone Number School Address  School City School State   School Zip  \\\n",
       "0         Unspecified    Unspecified  Unspecified  Unspecified  Unspecified   \n",
       "1         Unspecified    Unspecified  Unspecified  Unspecified  Unspecified   \n",
       "2         Unspecified    Unspecified  Unspecified  Unspecified  Unspecified   \n",
       "3         Unspecified    Unspecified  Unspecified  Unspecified  Unspecified   \n",
       "4         Unspecified    Unspecified  Unspecified  Unspecified  Unspecified   \n",
       "\n",
       "  School Not Found  School or Citywide Complaint  Vehicle Type  \\\n",
       "0                N                           NaN           NaN   \n",
       "1                N                           NaN           NaN   \n",
       "2                N                           NaN           NaN   \n",
       "3                N                           NaN           NaN   \n",
       "4                N                           NaN           NaN   \n",
       "\n",
       "   Taxi Company Borough  Taxi Pick Up Location Bridge Highway Name  \\\n",
       "0                   NaN                    NaN                 NaN   \n",
       "1                   NaN                    NaN                 NaN   \n",
       "2                   NaN                    NaN                 NaN   \n",
       "3                   NaN                    NaN                 NaN   \n",
       "4                   NaN                    NaN                 NaN   \n",
       "\n",
       "  Bridge Highway Direction Road Ramp Bridge Highway Segment  Garage Lot Name  \\\n",
       "0                      NaN       NaN                    NaN              NaN   \n",
       "1                      NaN       NaN                    NaN              NaN   \n",
       "2                      NaN       NaN                    NaN              NaN   \n",
       "3                      NaN       NaN                    NaN              NaN   \n",
       "4                      NaN       NaN                    NaN              NaN   \n",
       "\n",
       "  Ferry Direction Ferry Terminal Name   Latitude  Longitude  \\\n",
       "0             NaN                 NaN  40.865682 -73.923501   \n",
       "1             NaN                 NaN  40.775945 -73.915094   \n",
       "2             NaN                 NaN  40.870325 -73.888525   \n",
       "3             NaN                 NaN  40.835994 -73.828379   \n",
       "4             NaN                 NaN  40.733060 -73.874170   \n",
       "\n",
       "                                   Location  \n",
       "0   (40.86568153633767, -73.92350095571744)  \n",
       "1  (40.775945312321085, -73.91509393898605)  \n",
       "2  (40.870324522111424, -73.88852464418646)  \n",
       "3   (40.83599404683083, -73.82837939584206)  \n",
       "4  (40.733059618956815, -73.87416975810375)  "
      ]
     },
     "execution_count": 3,
     "metadata": {},
     "output_type": "execute_result"
    }
   ],
   "source": [
    "# print the frist 5 \n",
    "\n",
    "service.head()"
   ]
  },
  {
   "cell_type": "code",
   "execution_count": 4,
   "metadata": {
    "scrolled": false
   },
   "outputs": [
    {
     "data": {
      "text/html": [
       "<div>\n",
       "<style scoped>\n",
       "    .dataframe tbody tr th:only-of-type {\n",
       "        vertical-align: middle;\n",
       "    }\n",
       "\n",
       "    .dataframe tbody tr th {\n",
       "        vertical-align: top;\n",
       "    }\n",
       "\n",
       "    .dataframe thead th {\n",
       "        text-align: right;\n",
       "    }\n",
       "</style>\n",
       "<table border=\"1\" class=\"dataframe\">\n",
       "  <thead>\n",
       "    <tr style=\"text-align: right;\">\n",
       "      <th></th>\n",
       "      <th>Unique Key</th>\n",
       "      <th>Created Date</th>\n",
       "      <th>Closed Date</th>\n",
       "      <th>Agency</th>\n",
       "      <th>Agency Name</th>\n",
       "      <th>Complaint Type</th>\n",
       "      <th>Descriptor</th>\n",
       "      <th>Location Type</th>\n",
       "      <th>Incident Zip</th>\n",
       "      <th>Incident Address</th>\n",
       "      <th>Street Name</th>\n",
       "      <th>Cross Street 1</th>\n",
       "      <th>Cross Street 2</th>\n",
       "      <th>Intersection Street 1</th>\n",
       "      <th>Intersection Street 2</th>\n",
       "      <th>Address Type</th>\n",
       "      <th>City</th>\n",
       "      <th>Landmark</th>\n",
       "      <th>Facility Type</th>\n",
       "      <th>Status</th>\n",
       "      <th>Due Date</th>\n",
       "      <th>Resolution Description</th>\n",
       "      <th>Resolution Action Updated Date</th>\n",
       "      <th>Community Board</th>\n",
       "      <th>Borough</th>\n",
       "      <th>X Coordinate (State Plane)</th>\n",
       "      <th>Y Coordinate (State Plane)</th>\n",
       "      <th>Park Facility Name</th>\n",
       "      <th>Park Borough</th>\n",
       "      <th>School Name</th>\n",
       "      <th>School Number</th>\n",
       "      <th>School Region</th>\n",
       "      <th>School Code</th>\n",
       "      <th>School Phone Number</th>\n",
       "      <th>School Address</th>\n",
       "      <th>School City</th>\n",
       "      <th>School State</th>\n",
       "      <th>School Zip</th>\n",
       "      <th>School Not Found</th>\n",
       "      <th>School or Citywide Complaint</th>\n",
       "      <th>Vehicle Type</th>\n",
       "      <th>Taxi Company Borough</th>\n",
       "      <th>Taxi Pick Up Location</th>\n",
       "      <th>Bridge Highway Name</th>\n",
       "      <th>Bridge Highway Direction</th>\n",
       "      <th>Road Ramp</th>\n",
       "      <th>Bridge Highway Segment</th>\n",
       "      <th>Garage Lot Name</th>\n",
       "      <th>Ferry Direction</th>\n",
       "      <th>Ferry Terminal Name</th>\n",
       "      <th>Latitude</th>\n",
       "      <th>Longitude</th>\n",
       "      <th>Location</th>\n",
       "    </tr>\n",
       "  </thead>\n",
       "  <tbody>\n",
       "    <tr>\n",
       "      <td>300693</td>\n",
       "      <td>30281872</td>\n",
       "      <td>03/29/2015 12:33:41 AM</td>\n",
       "      <td>NaN</td>\n",
       "      <td>NYPD</td>\n",
       "      <td>New York City Police Department</td>\n",
       "      <td>Noise - Commercial</td>\n",
       "      <td>Loud Music/Party</td>\n",
       "      <td>Club/Bar/Restaurant</td>\n",
       "      <td>NaN</td>\n",
       "      <td>CRESCENT AVENUE</td>\n",
       "      <td>CRESCENT AVENUE</td>\n",
       "      <td>EAST 186</td>\n",
       "      <td>NaN</td>\n",
       "      <td>east 186</td>\n",
       "      <td>NaN</td>\n",
       "      <td>NaN</td>\n",
       "      <td>NaN</td>\n",
       "      <td>NaN</td>\n",
       "      <td>NaN</td>\n",
       "      <td>Open</td>\n",
       "      <td>03/29/2015 08:33:41 AM</td>\n",
       "      <td>Your complaint has been forwarded to the New Y...</td>\n",
       "      <td>NaN</td>\n",
       "      <td>0 Unspecified</td>\n",
       "      <td>Unspecified</td>\n",
       "      <td>NaN</td>\n",
       "      <td>NaN</td>\n",
       "      <td>Unspecified</td>\n",
       "      <td>Unspecified</td>\n",
       "      <td>Unspecified</td>\n",
       "      <td>Unspecified</td>\n",
       "      <td>Unspecified</td>\n",
       "      <td>Unspecified</td>\n",
       "      <td>Unspecified</td>\n",
       "      <td>Unspecified</td>\n",
       "      <td>Unspecified</td>\n",
       "      <td>Unspecified</td>\n",
       "      <td>Unspecified</td>\n",
       "      <td>N</td>\n",
       "      <td>NaN</td>\n",
       "      <td>NaN</td>\n",
       "      <td>NaN</td>\n",
       "      <td>NaN</td>\n",
       "      <td>NaN</td>\n",
       "      <td>NaN</td>\n",
       "      <td>NaN</td>\n",
       "      <td>NaN</td>\n",
       "      <td>NaN</td>\n",
       "      <td>NaN</td>\n",
       "      <td>NaN</td>\n",
       "      <td>NaN</td>\n",
       "      <td>NaN</td>\n",
       "      <td>NaN</td>\n",
       "    </tr>\n",
       "    <tr>\n",
       "      <td>300694</td>\n",
       "      <td>30281230</td>\n",
       "      <td>03/29/2015 12:33:28 AM</td>\n",
       "      <td>03/29/2015 02:33:59 AM</td>\n",
       "      <td>NYPD</td>\n",
       "      <td>New York City Police Department</td>\n",
       "      <td>Blocked Driveway</td>\n",
       "      <td>Partial Access</td>\n",
       "      <td>Street/Sidewalk</td>\n",
       "      <td>11418.0</td>\n",
       "      <td>100-17 87 AVENUE</td>\n",
       "      <td>87 AVENUE</td>\n",
       "      <td>DEAD END</td>\n",
       "      <td>102 STREET</td>\n",
       "      <td>NaN</td>\n",
       "      <td>NaN</td>\n",
       "      <td>ADDRESS</td>\n",
       "      <td>RICHMOND HILL</td>\n",
       "      <td>NaN</td>\n",
       "      <td>Precinct</td>\n",
       "      <td>Closed</td>\n",
       "      <td>03/29/2015 08:33:28 AM</td>\n",
       "      <td>The Police Department responded and upon arriv...</td>\n",
       "      <td>03/29/2015 02:33:59 AM</td>\n",
       "      <td>09 QUEENS</td>\n",
       "      <td>QUEENS</td>\n",
       "      <td>1026931.0</td>\n",
       "      <td>192185.0</td>\n",
       "      <td>Unspecified</td>\n",
       "      <td>QUEENS</td>\n",
       "      <td>Unspecified</td>\n",
       "      <td>Unspecified</td>\n",
       "      <td>Unspecified</td>\n",
       "      <td>Unspecified</td>\n",
       "      <td>Unspecified</td>\n",
       "      <td>Unspecified</td>\n",
       "      <td>Unspecified</td>\n",
       "      <td>Unspecified</td>\n",
       "      <td>Unspecified</td>\n",
       "      <td>N</td>\n",
       "      <td>NaN</td>\n",
       "      <td>NaN</td>\n",
       "      <td>NaN</td>\n",
       "      <td>NaN</td>\n",
       "      <td>NaN</td>\n",
       "      <td>NaN</td>\n",
       "      <td>NaN</td>\n",
       "      <td>NaN</td>\n",
       "      <td>NaN</td>\n",
       "      <td>NaN</td>\n",
       "      <td>NaN</td>\n",
       "      <td>40.694077</td>\n",
       "      <td>-73.846087</td>\n",
       "      <td>(40.69407728322387, -73.8460866160573)</td>\n",
       "    </tr>\n",
       "    <tr>\n",
       "      <td>300695</td>\n",
       "      <td>30283424</td>\n",
       "      <td>03/29/2015 12:33:03 AM</td>\n",
       "      <td>03/29/2015 03:40:20 AM</td>\n",
       "      <td>NYPD</td>\n",
       "      <td>New York City Police Department</td>\n",
       "      <td>Noise - Commercial</td>\n",
       "      <td>Loud Music/Party</td>\n",
       "      <td>Club/Bar/Restaurant</td>\n",
       "      <td>11206.0</td>\n",
       "      <td>162 THROOP AVENUE</td>\n",
       "      <td>THROOP AVENUE</td>\n",
       "      <td>HOPKINS STREET</td>\n",
       "      <td>ELLERY STREET</td>\n",
       "      <td>NaN</td>\n",
       "      <td>NaN</td>\n",
       "      <td>ADDRESS</td>\n",
       "      <td>BROOKLYN</td>\n",
       "      <td>NaN</td>\n",
       "      <td>Precinct</td>\n",
       "      <td>Closed</td>\n",
       "      <td>03/29/2015 08:33:03 AM</td>\n",
       "      <td>The Police Department responded to the complai...</td>\n",
       "      <td>03/29/2015 03:40:20 AM</td>\n",
       "      <td>03 BROOKLYN</td>\n",
       "      <td>BROOKLYN</td>\n",
       "      <td>999713.0</td>\n",
       "      <td>194161.0</td>\n",
       "      <td>Unspecified</td>\n",
       "      <td>BROOKLYN</td>\n",
       "      <td>Unspecified</td>\n",
       "      <td>Unspecified</td>\n",
       "      <td>Unspecified</td>\n",
       "      <td>Unspecified</td>\n",
       "      <td>Unspecified</td>\n",
       "      <td>Unspecified</td>\n",
       "      <td>Unspecified</td>\n",
       "      <td>Unspecified</td>\n",
       "      <td>Unspecified</td>\n",
       "      <td>N</td>\n",
       "      <td>NaN</td>\n",
       "      <td>NaN</td>\n",
       "      <td>NaN</td>\n",
       "      <td>NaN</td>\n",
       "      <td>NaN</td>\n",
       "      <td>NaN</td>\n",
       "      <td>NaN</td>\n",
       "      <td>NaN</td>\n",
       "      <td>NaN</td>\n",
       "      <td>NaN</td>\n",
       "      <td>NaN</td>\n",
       "      <td>40.699590</td>\n",
       "      <td>-73.944234</td>\n",
       "      <td>(40.69959035300927, -73.94423377144169)</td>\n",
       "    </tr>\n",
       "    <tr>\n",
       "      <td>300696</td>\n",
       "      <td>30280004</td>\n",
       "      <td>03/29/2015 12:33:02 AM</td>\n",
       "      <td>03/29/2015 04:38:35 AM</td>\n",
       "      <td>NYPD</td>\n",
       "      <td>New York City Police Department</td>\n",
       "      <td>Noise - Commercial</td>\n",
       "      <td>Loud Music/Party</td>\n",
       "      <td>Club/Bar/Restaurant</td>\n",
       "      <td>10461.0</td>\n",
       "      <td>3151 EAST TREMONT AVENUE</td>\n",
       "      <td>EAST TREMONT AVENUE</td>\n",
       "      <td>CODDINGTON AVENUE</td>\n",
       "      <td>LA SALLE AVENUE</td>\n",
       "      <td>NaN</td>\n",
       "      <td>NaN</td>\n",
       "      <td>ADDRESS</td>\n",
       "      <td>BRONX</td>\n",
       "      <td>NaN</td>\n",
       "      <td>Precinct</td>\n",
       "      <td>Closed</td>\n",
       "      <td>03/29/2015 08:33:02 AM</td>\n",
       "      <td>The Police Department responded to the complai...</td>\n",
       "      <td>03/29/2015 04:38:35 AM</td>\n",
       "      <td>10 BRONX</td>\n",
       "      <td>BRONX</td>\n",
       "      <td>1030021.0</td>\n",
       "      <td>244520.0</td>\n",
       "      <td>Unspecified</td>\n",
       "      <td>BRONX</td>\n",
       "      <td>Unspecified</td>\n",
       "      <td>Unspecified</td>\n",
       "      <td>Unspecified</td>\n",
       "      <td>Unspecified</td>\n",
       "      <td>Unspecified</td>\n",
       "      <td>Unspecified</td>\n",
       "      <td>Unspecified</td>\n",
       "      <td>Unspecified</td>\n",
       "      <td>Unspecified</td>\n",
       "      <td>N</td>\n",
       "      <td>NaN</td>\n",
       "      <td>NaN</td>\n",
       "      <td>NaN</td>\n",
       "      <td>NaN</td>\n",
       "      <td>NaN</td>\n",
       "      <td>NaN</td>\n",
       "      <td>NaN</td>\n",
       "      <td>NaN</td>\n",
       "      <td>NaN</td>\n",
       "      <td>NaN</td>\n",
       "      <td>NaN</td>\n",
       "      <td>40.837708</td>\n",
       "      <td>-73.834587</td>\n",
       "      <td>(40.8377075854206, -73.83458731019586)</td>\n",
       "    </tr>\n",
       "    <tr>\n",
       "      <td>300697</td>\n",
       "      <td>30281825</td>\n",
       "      <td>03/29/2015 12:33:01 AM</td>\n",
       "      <td>03/29/2015 04:41:50 AM</td>\n",
       "      <td>NYPD</td>\n",
       "      <td>New York City Police Department</td>\n",
       "      <td>Noise - Commercial</td>\n",
       "      <td>Loud Music/Party</td>\n",
       "      <td>Store/Commercial</td>\n",
       "      <td>10036.0</td>\n",
       "      <td>251 WEST 48 STREET</td>\n",
       "      <td>WEST 48 STREET</td>\n",
       "      <td>BROADWAY</td>\n",
       "      <td>8 AVENUE</td>\n",
       "      <td>NaN</td>\n",
       "      <td>NaN</td>\n",
       "      <td>ADDRESS</td>\n",
       "      <td>NEW YORK</td>\n",
       "      <td>NaN</td>\n",
       "      <td>Precinct</td>\n",
       "      <td>Closed</td>\n",
       "      <td>03/29/2015 08:33:01 AM</td>\n",
       "      <td>The Police Department responded to the complai...</td>\n",
       "      <td>03/29/2015 04:41:50 AM</td>\n",
       "      <td>05 MANHATTAN</td>\n",
       "      <td>MANHATTAN</td>\n",
       "      <td>988150.0</td>\n",
       "      <td>216378.0</td>\n",
       "      <td>Unspecified</td>\n",
       "      <td>MANHATTAN</td>\n",
       "      <td>Unspecified</td>\n",
       "      <td>Unspecified</td>\n",
       "      <td>Unspecified</td>\n",
       "      <td>Unspecified</td>\n",
       "      <td>Unspecified</td>\n",
       "      <td>Unspecified</td>\n",
       "      <td>Unspecified</td>\n",
       "      <td>Unspecified</td>\n",
       "      <td>Unspecified</td>\n",
       "      <td>N</td>\n",
       "      <td>NaN</td>\n",
       "      <td>NaN</td>\n",
       "      <td>NaN</td>\n",
       "      <td>NaN</td>\n",
       "      <td>NaN</td>\n",
       "      <td>NaN</td>\n",
       "      <td>NaN</td>\n",
       "      <td>NaN</td>\n",
       "      <td>NaN</td>\n",
       "      <td>NaN</td>\n",
       "      <td>NaN</td>\n",
       "      <td>40.760583</td>\n",
       "      <td>-73.985922</td>\n",
       "      <td>(40.76058322950115, -73.98592204392392)</td>\n",
       "    </tr>\n",
       "  </tbody>\n",
       "</table>\n",
       "</div>"
      ],
      "text/plain": [
       "        Unique Key            Created Date             Closed Date Agency  \\\n",
       "300693    30281872  03/29/2015 12:33:41 AM                     NaN   NYPD   \n",
       "300694    30281230  03/29/2015 12:33:28 AM  03/29/2015 02:33:59 AM   NYPD   \n",
       "300695    30283424  03/29/2015 12:33:03 AM  03/29/2015 03:40:20 AM   NYPD   \n",
       "300696    30280004  03/29/2015 12:33:02 AM  03/29/2015 04:38:35 AM   NYPD   \n",
       "300697    30281825  03/29/2015 12:33:01 AM  03/29/2015 04:41:50 AM   NYPD   \n",
       "\n",
       "                            Agency Name      Complaint Type        Descriptor  \\\n",
       "300693  New York City Police Department  Noise - Commercial  Loud Music/Party   \n",
       "300694  New York City Police Department    Blocked Driveway    Partial Access   \n",
       "300695  New York City Police Department  Noise - Commercial  Loud Music/Party   \n",
       "300696  New York City Police Department  Noise - Commercial  Loud Music/Party   \n",
       "300697  New York City Police Department  Noise - Commercial  Loud Music/Party   \n",
       "\n",
       "              Location Type  Incident Zip          Incident Address  \\\n",
       "300693  Club/Bar/Restaurant           NaN           CRESCENT AVENUE   \n",
       "300694      Street/Sidewalk       11418.0          100-17 87 AVENUE   \n",
       "300695  Club/Bar/Restaurant       11206.0         162 THROOP AVENUE   \n",
       "300696  Club/Bar/Restaurant       10461.0  3151 EAST TREMONT AVENUE   \n",
       "300697     Store/Commercial       10036.0        251 WEST 48 STREET   \n",
       "\n",
       "                Street Name     Cross Street 1   Cross Street 2  \\\n",
       "300693      CRESCENT AVENUE           EAST 186              NaN   \n",
       "300694            87 AVENUE           DEAD END       102 STREET   \n",
       "300695        THROOP AVENUE     HOPKINS STREET    ELLERY STREET   \n",
       "300696  EAST TREMONT AVENUE  CODDINGTON AVENUE  LA SALLE AVENUE   \n",
       "300697       WEST 48 STREET           BROADWAY         8 AVENUE   \n",
       "\n",
       "       Intersection Street 1 Intersection Street 2 Address Type  \\\n",
       "300693              east 186                   NaN          NaN   \n",
       "300694                   NaN                   NaN      ADDRESS   \n",
       "300695                   NaN                   NaN      ADDRESS   \n",
       "300696                   NaN                   NaN      ADDRESS   \n",
       "300697                   NaN                   NaN      ADDRESS   \n",
       "\n",
       "                 City Landmark Facility Type  Status                Due Date  \\\n",
       "300693            NaN      NaN           NaN    Open  03/29/2015 08:33:41 AM   \n",
       "300694  RICHMOND HILL      NaN      Precinct  Closed  03/29/2015 08:33:28 AM   \n",
       "300695       BROOKLYN      NaN      Precinct  Closed  03/29/2015 08:33:03 AM   \n",
       "300696          BRONX      NaN      Precinct  Closed  03/29/2015 08:33:02 AM   \n",
       "300697       NEW YORK      NaN      Precinct  Closed  03/29/2015 08:33:01 AM   \n",
       "\n",
       "                                   Resolution Description  \\\n",
       "300693  Your complaint has been forwarded to the New Y...   \n",
       "300694  The Police Department responded and upon arriv...   \n",
       "300695  The Police Department responded to the complai...   \n",
       "300696  The Police Department responded to the complai...   \n",
       "300697  The Police Department responded to the complai...   \n",
       "\n",
       "       Resolution Action Updated Date Community Board      Borough  \\\n",
       "300693                            NaN   0 Unspecified  Unspecified   \n",
       "300694         03/29/2015 02:33:59 AM       09 QUEENS       QUEENS   \n",
       "300695         03/29/2015 03:40:20 AM     03 BROOKLYN     BROOKLYN   \n",
       "300696         03/29/2015 04:38:35 AM        10 BRONX        BRONX   \n",
       "300697         03/29/2015 04:41:50 AM    05 MANHATTAN    MANHATTAN   \n",
       "\n",
       "        X Coordinate (State Plane)  Y Coordinate (State Plane)  \\\n",
       "300693                         NaN                         NaN   \n",
       "300694                   1026931.0                    192185.0   \n",
       "300695                    999713.0                    194161.0   \n",
       "300696                   1030021.0                    244520.0   \n",
       "300697                    988150.0                    216378.0   \n",
       "\n",
       "       Park Facility Name Park Borough  School Name School Number  \\\n",
       "300693        Unspecified  Unspecified  Unspecified   Unspecified   \n",
       "300694        Unspecified       QUEENS  Unspecified   Unspecified   \n",
       "300695        Unspecified     BROOKLYN  Unspecified   Unspecified   \n",
       "300696        Unspecified        BRONX  Unspecified   Unspecified   \n",
       "300697        Unspecified    MANHATTAN  Unspecified   Unspecified   \n",
       "\n",
       "       School Region  School Code School Phone Number School Address  \\\n",
       "300693   Unspecified  Unspecified         Unspecified    Unspecified   \n",
       "300694   Unspecified  Unspecified         Unspecified    Unspecified   \n",
       "300695   Unspecified  Unspecified         Unspecified    Unspecified   \n",
       "300696   Unspecified  Unspecified         Unspecified    Unspecified   \n",
       "300697   Unspecified  Unspecified         Unspecified    Unspecified   \n",
       "\n",
       "        School City School State   School Zip School Not Found  \\\n",
       "300693  Unspecified  Unspecified  Unspecified                N   \n",
       "300694  Unspecified  Unspecified  Unspecified                N   \n",
       "300695  Unspecified  Unspecified  Unspecified                N   \n",
       "300696  Unspecified  Unspecified  Unspecified                N   \n",
       "300697  Unspecified  Unspecified  Unspecified                N   \n",
       "\n",
       "        School or Citywide Complaint  Vehicle Type  Taxi Company Borough  \\\n",
       "300693                           NaN           NaN                   NaN   \n",
       "300694                           NaN           NaN                   NaN   \n",
       "300695                           NaN           NaN                   NaN   \n",
       "300696                           NaN           NaN                   NaN   \n",
       "300697                           NaN           NaN                   NaN   \n",
       "\n",
       "        Taxi Pick Up Location Bridge Highway Name Bridge Highway Direction  \\\n",
       "300693                    NaN                 NaN                      NaN   \n",
       "300694                    NaN                 NaN                      NaN   \n",
       "300695                    NaN                 NaN                      NaN   \n",
       "300696                    NaN                 NaN                      NaN   \n",
       "300697                    NaN                 NaN                      NaN   \n",
       "\n",
       "       Road Ramp Bridge Highway Segment  Garage Lot Name Ferry Direction  \\\n",
       "300693       NaN                    NaN              NaN             NaN   \n",
       "300694       NaN                    NaN              NaN             NaN   \n",
       "300695       NaN                    NaN              NaN             NaN   \n",
       "300696       NaN                    NaN              NaN             NaN   \n",
       "300697       NaN                    NaN              NaN             NaN   \n",
       "\n",
       "       Ferry Terminal Name   Latitude  Longitude  \\\n",
       "300693                 NaN        NaN        NaN   \n",
       "300694                 NaN  40.694077 -73.846087   \n",
       "300695                 NaN  40.699590 -73.944234   \n",
       "300696                 NaN  40.837708 -73.834587   \n",
       "300697                 NaN  40.760583 -73.985922   \n",
       "\n",
       "                                       Location  \n",
       "300693                                      NaN  \n",
       "300694   (40.69407728322387, -73.8460866160573)  \n",
       "300695  (40.69959035300927, -73.94423377144169)  \n",
       "300696   (40.8377075854206, -73.83458731019586)  \n",
       "300697  (40.76058322950115, -73.98592204392392)  "
      ]
     },
     "execution_count": 4,
     "metadata": {},
     "output_type": "execute_result"
    }
   ],
   "source": [
    "# print the last 5 .\n",
    "service.tail()"
   ]
  },
  {
   "cell_type": "markdown",
   "metadata": {},
   "source": [
    "#### 4: View size or shape the data\n"
   ]
  },
  {
   "cell_type": "code",
   "execution_count": 5,
   "metadata": {},
   "outputs": [
    {
     "data": {
      "text/plain": [
       "(300698, 53)"
      ]
     },
     "execution_count": 5,
     "metadata": {},
     "output_type": "execute_result"
    }
   ],
   "source": [
    "# the shape of data \n",
    "service.shape"
   ]
  },
  {
   "cell_type": "markdown",
   "metadata": {},
   "source": [
    "#### 5: View the features or columns names\n"
   ]
  },
  {
   "cell_type": "code",
   "execution_count": 6,
   "metadata": {},
   "outputs": [
    {
     "data": {
      "text/plain": [
       "Index(['Unique Key', 'Created Date', 'Closed Date', 'Agency', 'Agency Name',\n",
       "       'Complaint Type', 'Descriptor', 'Location Type', 'Incident Zip',\n",
       "       'Incident Address', 'Street Name', 'Cross Street 1', 'Cross Street 2',\n",
       "       'Intersection Street 1', 'Intersection Street 2', 'Address Type',\n",
       "       'City', 'Landmark', 'Facility Type', 'Status', 'Due Date',\n",
       "       'Resolution Description', 'Resolution Action Updated Date',\n",
       "       'Community Board', 'Borough', 'X Coordinate (State Plane)',\n",
       "       'Y Coordinate (State Plane)', 'Park Facility Name', 'Park Borough',\n",
       "       'School Name', 'School Number', 'School Region', 'School Code',\n",
       "       'School Phone Number', 'School Address', 'School City', 'School State',\n",
       "       'School Zip', 'School Not Found', 'School or Citywide Complaint',\n",
       "       'Vehicle Type', 'Taxi Company Borough', 'Taxi Pick Up Location',\n",
       "       'Bridge Highway Name', 'Bridge Highway Direction', 'Road Ramp',\n",
       "       'Bridge Highway Segment', 'Garage Lot Name', 'Ferry Direction',\n",
       "       'Ferry Terminal Name', 'Latitude', 'Longitude', 'Location'],\n",
       "      dtype='object')"
      ]
     },
     "execution_count": 6,
     "metadata": {},
     "output_type": "execute_result"
    }
   ],
   "source": [
    "# print the name of columns \n",
    "service.columns"
   ]
  },
  {
   "cell_type": "markdown",
   "metadata": {},
   "source": [
    "#### 6: what is the data dtypes of dataset ?\n"
   ]
  },
  {
   "cell_type": "code",
   "execution_count": 7,
   "metadata": {
    "scrolled": true
   },
   "outputs": [
    {
     "data": {
      "text/plain": [
       "Unique Key                          int64\n",
       "Created Date                       object\n",
       "Closed Date                        object\n",
       "Agency                             object\n",
       "Agency Name                        object\n",
       "Complaint Type                     object\n",
       "Descriptor                         object\n",
       "Location Type                      object\n",
       "Incident Zip                      float64\n",
       "Incident Address                   object\n",
       "Street Name                        object\n",
       "Cross Street 1                     object\n",
       "Cross Street 2                     object\n",
       "Intersection Street 1              object\n",
       "Intersection Street 2              object\n",
       "Address Type                       object\n",
       "City                               object\n",
       "Landmark                           object\n",
       "Facility Type                      object\n",
       "Status                             object\n",
       "Due Date                           object\n",
       "Resolution Description             object\n",
       "Resolution Action Updated Date     object\n",
       "Community Board                    object\n",
       "Borough                            object\n",
       "X Coordinate (State Plane)        float64\n",
       "Y Coordinate (State Plane)        float64\n",
       "Park Facility Name                 object\n",
       "Park Borough                       object\n",
       "School Name                        object\n",
       "School Number                      object\n",
       "School Region                      object\n",
       "School Code                        object\n",
       "School Phone Number                object\n",
       "School Address                     object\n",
       "School City                        object\n",
       "School State                       object\n",
       "School Zip                         object\n",
       "School Not Found                   object\n",
       "School or Citywide Complaint      float64\n",
       "Vehicle Type                      float64\n",
       "Taxi Company Borough              float64\n",
       "Taxi Pick Up Location             float64\n",
       "Bridge Highway Name                object\n",
       "Bridge Highway Direction           object\n",
       "Road Ramp                          object\n",
       "Bridge Highway Segment             object\n",
       "Garage Lot Name                   float64\n",
       "Ferry Direction                    object\n",
       "Ferry Terminal Name                object\n",
       "Latitude                          float64\n",
       "Longitude                         float64\n",
       "Location                           object\n",
       "dtype: object"
      ]
     },
     "execution_count": 7,
     "metadata": {},
     "output_type": "execute_result"
    }
   ],
   "source": [
    "# the types of dataset \n",
    "service.dtypes"
   ]
  },
  {
   "cell_type": "markdown",
   "metadata": {},
   "source": [
    "#### 7: discover the dataset by using info()"
   ]
  },
  {
   "cell_type": "code",
   "execution_count": 8,
   "metadata": {
    "scrolled": true
   },
   "outputs": [
    {
     "name": "stdout",
     "output_type": "stream",
     "text": [
      "<class 'pandas.core.frame.DataFrame'>\n",
      "RangeIndex: 300698 entries, 0 to 300697\n",
      "Data columns (total 53 columns):\n",
      "Unique Key                        300698 non-null int64\n",
      "Created Date                      300698 non-null object\n",
      "Closed Date                       298534 non-null object\n",
      "Agency                            300698 non-null object\n",
      "Agency Name                       300698 non-null object\n",
      "Complaint Type                    300698 non-null object\n",
      "Descriptor                        294784 non-null object\n",
      "Location Type                     300567 non-null object\n",
      "Incident Zip                      298083 non-null float64\n",
      "Incident Address                  256288 non-null object\n",
      "Street Name                       256288 non-null object\n",
      "Cross Street 1                    251419 non-null object\n",
      "Cross Street 2                    250919 non-null object\n",
      "Intersection Street 1             43858 non-null object\n",
      "Intersection Street 2             43362 non-null object\n",
      "Address Type                      297883 non-null object\n",
      "City                              298084 non-null object\n",
      "Landmark                          349 non-null object\n",
      "Facility Type                     298527 non-null object\n",
      "Status                            300698 non-null object\n",
      "Due Date                          300695 non-null object\n",
      "Resolution Description            300698 non-null object\n",
      "Resolution Action Updated Date    298511 non-null object\n",
      "Community Board                   300698 non-null object\n",
      "Borough                           300698 non-null object\n",
      "X Coordinate (State Plane)        297158 non-null float64\n",
      "Y Coordinate (State Plane)        297158 non-null float64\n",
      "Park Facility Name                300698 non-null object\n",
      "Park Borough                      300698 non-null object\n",
      "School Name                       300698 non-null object\n",
      "School Number                     300698 non-null object\n",
      "School Region                     300697 non-null object\n",
      "School Code                       300697 non-null object\n",
      "School Phone Number               300698 non-null object\n",
      "School Address                    300698 non-null object\n",
      "School City                       300698 non-null object\n",
      "School State                      300698 non-null object\n",
      "School Zip                        300697 non-null object\n",
      "School Not Found                  300698 non-null object\n",
      "School or Citywide Complaint      0 non-null float64\n",
      "Vehicle Type                      0 non-null float64\n",
      "Taxi Company Borough              0 non-null float64\n",
      "Taxi Pick Up Location             0 non-null float64\n",
      "Bridge Highway Name               243 non-null object\n",
      "Bridge Highway Direction          243 non-null object\n",
      "Road Ramp                         213 non-null object\n",
      "Bridge Highway Segment            213 non-null object\n",
      "Garage Lot Name                   0 non-null float64\n",
      "Ferry Direction                   1 non-null object\n",
      "Ferry Terminal Name               2 non-null object\n",
      "Latitude                          297158 non-null float64\n",
      "Longitude                         297158 non-null float64\n",
      "Location                          297158 non-null object\n",
      "dtypes: float64(10), int64(1), object(42)\n",
      "memory usage: 121.6+ MB\n"
     ]
    }
   ],
   "source": [
    "# print information data \n",
    "service.info()"
   ]
  },
  {
   "cell_type": "markdown",
   "metadata": {},
   "source": [
    "# 2: EDA"
   ]
  },
  {
   "cell_type": "markdown",
   "metadata": {},
   "source": [
    "---"
   ]
  },
  {
   "cell_type": "markdown",
   "metadata": {},
   "source": [
    "#### 1:Lets look at the description analysis of the data"
   ]
  },
  {
   "cell_type": "code",
   "execution_count": 9,
   "metadata": {},
   "outputs": [
    {
     "data": {
      "text/html": [
       "<div>\n",
       "<style scoped>\n",
       "    .dataframe tbody tr th:only-of-type {\n",
       "        vertical-align: middle;\n",
       "    }\n",
       "\n",
       "    .dataframe tbody tr th {\n",
       "        vertical-align: top;\n",
       "    }\n",
       "\n",
       "    .dataframe thead th {\n",
       "        text-align: right;\n",
       "    }\n",
       "</style>\n",
       "<table border=\"1\" class=\"dataframe\">\n",
       "  <thead>\n",
       "    <tr style=\"text-align: right;\">\n",
       "      <th></th>\n",
       "      <th>Unique Key</th>\n",
       "      <th>Incident Zip</th>\n",
       "      <th>X Coordinate (State Plane)</th>\n",
       "      <th>Y Coordinate (State Plane)</th>\n",
       "      <th>School or Citywide Complaint</th>\n",
       "      <th>Vehicle Type</th>\n",
       "      <th>Taxi Company Borough</th>\n",
       "      <th>Taxi Pick Up Location</th>\n",
       "      <th>Garage Lot Name</th>\n",
       "      <th>Latitude</th>\n",
       "      <th>Longitude</th>\n",
       "    </tr>\n",
       "  </thead>\n",
       "  <tbody>\n",
       "    <tr>\n",
       "      <td>count</td>\n",
       "      <td>3.006980e+05</td>\n",
       "      <td>298083.000000</td>\n",
       "      <td>2.971580e+05</td>\n",
       "      <td>297158.000000</td>\n",
       "      <td>0.0</td>\n",
       "      <td>0.0</td>\n",
       "      <td>0.0</td>\n",
       "      <td>0.0</td>\n",
       "      <td>0.0</td>\n",
       "      <td>297158.000000</td>\n",
       "      <td>297158.000000</td>\n",
       "    </tr>\n",
       "    <tr>\n",
       "      <td>mean</td>\n",
       "      <td>3.130054e+07</td>\n",
       "      <td>10848.888645</td>\n",
       "      <td>1.004854e+06</td>\n",
       "      <td>203754.534416</td>\n",
       "      <td>NaN</td>\n",
       "      <td>NaN</td>\n",
       "      <td>NaN</td>\n",
       "      <td>NaN</td>\n",
       "      <td>NaN</td>\n",
       "      <td>40.725885</td>\n",
       "      <td>-73.925630</td>\n",
       "    </tr>\n",
       "    <tr>\n",
       "      <td>std</td>\n",
       "      <td>5.738547e+05</td>\n",
       "      <td>583.182081</td>\n",
       "      <td>2.175338e+04</td>\n",
       "      <td>29880.183529</td>\n",
       "      <td>NaN</td>\n",
       "      <td>NaN</td>\n",
       "      <td>NaN</td>\n",
       "      <td>NaN</td>\n",
       "      <td>NaN</td>\n",
       "      <td>0.082012</td>\n",
       "      <td>0.078454</td>\n",
       "    </tr>\n",
       "    <tr>\n",
       "      <td>min</td>\n",
       "      <td>3.027948e+07</td>\n",
       "      <td>83.000000</td>\n",
       "      <td>9.133570e+05</td>\n",
       "      <td>121219.000000</td>\n",
       "      <td>NaN</td>\n",
       "      <td>NaN</td>\n",
       "      <td>NaN</td>\n",
       "      <td>NaN</td>\n",
       "      <td>NaN</td>\n",
       "      <td>40.499135</td>\n",
       "      <td>-74.254937</td>\n",
       "    </tr>\n",
       "    <tr>\n",
       "      <td>25%</td>\n",
       "      <td>3.080118e+07</td>\n",
       "      <td>10310.000000</td>\n",
       "      <td>9.919752e+05</td>\n",
       "      <td>183343.000000</td>\n",
       "      <td>NaN</td>\n",
       "      <td>NaN</td>\n",
       "      <td>NaN</td>\n",
       "      <td>NaN</td>\n",
       "      <td>NaN</td>\n",
       "      <td>40.669796</td>\n",
       "      <td>-73.972142</td>\n",
       "    </tr>\n",
       "    <tr>\n",
       "      <td>50%</td>\n",
       "      <td>3.130436e+07</td>\n",
       "      <td>11208.000000</td>\n",
       "      <td>1.003158e+06</td>\n",
       "      <td>201110.500000</td>\n",
       "      <td>NaN</td>\n",
       "      <td>NaN</td>\n",
       "      <td>NaN</td>\n",
       "      <td>NaN</td>\n",
       "      <td>NaN</td>\n",
       "      <td>40.718661</td>\n",
       "      <td>-73.931781</td>\n",
       "    </tr>\n",
       "    <tr>\n",
       "      <td>75%</td>\n",
       "      <td>3.178446e+07</td>\n",
       "      <td>11238.000000</td>\n",
       "      <td>1.018372e+06</td>\n",
       "      <td>224125.250000</td>\n",
       "      <td>NaN</td>\n",
       "      <td>NaN</td>\n",
       "      <td>NaN</td>\n",
       "      <td>NaN</td>\n",
       "      <td>NaN</td>\n",
       "      <td>40.781840</td>\n",
       "      <td>-73.876805</td>\n",
       "    </tr>\n",
       "    <tr>\n",
       "      <td>max</td>\n",
       "      <td>3.231065e+07</td>\n",
       "      <td>11697.000000</td>\n",
       "      <td>1.067173e+06</td>\n",
       "      <td>271876.000000</td>\n",
       "      <td>NaN</td>\n",
       "      <td>NaN</td>\n",
       "      <td>NaN</td>\n",
       "      <td>NaN</td>\n",
       "      <td>NaN</td>\n",
       "      <td>40.912869</td>\n",
       "      <td>-73.700760</td>\n",
       "    </tr>\n",
       "  </tbody>\n",
       "</table>\n",
       "</div>"
      ],
      "text/plain": [
       "         Unique Key   Incident Zip  X Coordinate (State Plane)  \\\n",
       "count  3.006980e+05  298083.000000                2.971580e+05   \n",
       "mean   3.130054e+07   10848.888645                1.004854e+06   \n",
       "std    5.738547e+05     583.182081                2.175338e+04   \n",
       "min    3.027948e+07      83.000000                9.133570e+05   \n",
       "25%    3.080118e+07   10310.000000                9.919752e+05   \n",
       "50%    3.130436e+07   11208.000000                1.003158e+06   \n",
       "75%    3.178446e+07   11238.000000                1.018372e+06   \n",
       "max    3.231065e+07   11697.000000                1.067173e+06   \n",
       "\n",
       "       Y Coordinate (State Plane)  School or Citywide Complaint  Vehicle Type  \\\n",
       "count               297158.000000                           0.0           0.0   \n",
       "mean                203754.534416                           NaN           NaN   \n",
       "std                  29880.183529                           NaN           NaN   \n",
       "min                 121219.000000                           NaN           NaN   \n",
       "25%                 183343.000000                           NaN           NaN   \n",
       "50%                 201110.500000                           NaN           NaN   \n",
       "75%                 224125.250000                           NaN           NaN   \n",
       "max                 271876.000000                           NaN           NaN   \n",
       "\n",
       "       Taxi Company Borough  Taxi Pick Up Location  Garage Lot Name  \\\n",
       "count                   0.0                    0.0              0.0   \n",
       "mean                    NaN                    NaN              NaN   \n",
       "std                     NaN                    NaN              NaN   \n",
       "min                     NaN                    NaN              NaN   \n",
       "25%                     NaN                    NaN              NaN   \n",
       "50%                     NaN                    NaN              NaN   \n",
       "75%                     NaN                    NaN              NaN   \n",
       "max                     NaN                    NaN              NaN   \n",
       "\n",
       "            Latitude      Longitude  \n",
       "count  297158.000000  297158.000000  \n",
       "mean       40.725885     -73.925630  \n",
       "std         0.082012       0.078454  \n",
       "min        40.499135     -74.254937  \n",
       "25%        40.669796     -73.972142  \n",
       "50%        40.718661     -73.931781  \n",
       "75%        40.781840     -73.876805  \n",
       "max        40.912869     -73.700760  "
      ]
     },
     "execution_count": 9,
     "metadata": {},
     "output_type": "execute_result"
    }
   ],
   "source": [
    "# description analysis of the data\n",
    "service.describe()"
   ]
  },
  {
   "cell_type": "markdown",
   "metadata": {},
   "source": [
    "* from the description analysis there are a lot of null values or missing values *"
   ]
  },
  {
   "cell_type": "markdown",
   "metadata": {},
   "source": [
    "#### 2:use unique() to see what are complaint types and  lengths "
   ]
  },
  {
   "cell_type": "code",
   "execution_count": 10,
   "metadata": {},
   "outputs": [
    {
     "data": {
      "text/plain": [
       "array(['Noise - Street/Sidewalk', 'Blocked Driveway', 'Illegal Parking',\n",
       "       'Derelict Vehicle', 'Noise - Commercial',\n",
       "       'Noise - House of Worship', 'Posting Advertisement',\n",
       "       'Noise - Vehicle', 'Animal Abuse', 'Vending', 'Traffic',\n",
       "       'Drinking', 'Bike/Roller/Skate Chronic', 'Panhandling',\n",
       "       'Noise - Park', 'Homeless Encampment', 'Urinating in Public',\n",
       "       'Graffiti', 'Disorderly Youth', 'Illegal Fireworks',\n",
       "       'Ferry Complaint', 'Agency Issues', 'Squeegee', 'Animal in a Park'],\n",
       "      dtype=object)"
      ]
     },
     "execution_count": 10,
     "metadata": {},
     "output_type": "execute_result"
    }
   ],
   "source": [
    "# use unique() to see what are complaint types and what is the total copmlaint type  without repeated\n",
    "service['Complaint Type'].unique()\n"
   ]
  },
  {
   "cell_type": "code",
   "execution_count": 11,
   "metadata": {},
   "outputs": [
    {
     "data": {
      "text/plain": [
       "24"
      ]
     },
     "execution_count": 11,
     "metadata": {},
     "output_type": "execute_result"
    }
   ],
   "source": [
    "# what is the total copmlaint type  without repeated\n",
    "len(service['Complaint Type'].unique())"
   ]
  },
  {
   "cell_type": "markdown",
   "metadata": {},
   "source": [
    "#### 3:what are total number complaint for each complaint types "
   ]
  },
  {
   "cell_type": "code",
   "execution_count": 12,
   "metadata": {
    "scrolled": true
   },
   "outputs": [
    {
     "data": {
      "text/plain": [
       "Animal in a Park                 1\n",
       "Ferry Complaint                  2\n",
       "Squeegee                         4\n",
       "Agency Issues                    6\n",
       "Graffiti                       113\n",
       "Illegal Fireworks              168\n",
       "Disorderly Youth               286\n",
       "Panhandling                    307\n",
       "Bike/Roller/Skate Chronic      427\n",
       "Urinating in Public            592\n",
       "Posting Advertisement          650\n",
       "Noise - House of Worship       931\n",
       "Drinking                      1280\n",
       "Vending                       3802\n",
       "Noise - Park                  4042\n",
       "Homeless Encampment           4416\n",
       "Traffic                       4498\n",
       "Animal Abuse                  7778\n",
       "Noise - Vehicle              17083\n",
       "Derelict Vehicle             17718\n",
       "Noise - Commercial           35577\n",
       "Noise - Street/Sidewalk      48612\n",
       "Illegal Parking              75361\n",
       "Blocked Driveway             77044\n",
       "Name: Complaint Type, dtype: int64"
      ]
     },
     "execution_count": 12,
     "metadata": {},
     "output_type": "execute_result"
    }
   ],
   "source": [
    "#the count of each  Complaint Type in order  \n",
    "service['Complaint Type'].value_counts().sort_values()"
   ]
  },
  {
   "cell_type": "markdown",
   "metadata": {},
   "source": [
    "#### 4:what are total number complaint  for each city "
   ]
  },
  {
   "cell_type": "code",
   "execution_count": 13,
   "metadata": {
    "scrolled": true
   },
   "outputs": [
    {
     "data": {
      "text/plain": [
       "Howard Beach               1\n",
       "East Elmhurst             14\n",
       "BREEZY POINT              30\n",
       "QUEENS                    32\n",
       "CENTRAL PARK              97\n",
       "NEW HYDE PARK             98\n",
       "Woodside                 120\n",
       "Long Island City         134\n",
       "FLORAL PARK              152\n",
       "ARVERNE                  220\n",
       "GLEN OAKS                306\n",
       "BELLEROSE                375\n",
       "CAMBRIA HEIGHTS          477\n",
       "OAKLAND GARDENS          551\n",
       "LITTLE NECK              559\n",
       "Astoria                  717\n",
       "SUNNYSIDE                723\n",
       "ROCKAWAY PARK            745\n",
       "KEW GARDENS              771\n",
       "SAINT ALBANS             834\n",
       "SPRINGFIELD GARDENS      883\n",
       "ROSEDALE                 922\n",
       "HOWARD BEACH             931\n",
       "HOLLIS                  1012\n",
       "WHITESTONE              1098\n",
       "FAR ROCKAWAY            1179\n",
       "COLLEGE POINT           1220\n",
       "BAYSIDE                 1221\n",
       "REGO PARK               1486\n",
       "FOREST HILLS            1688\n",
       "JACKSON HEIGHTS         1689\n",
       "MIDDLE VILLAGE          1765\n",
       "QUEENS VILLAGE          1814\n",
       "FRESH MEADOWS           1899\n",
       "RICHMOND HILL           1904\n",
       "SOUTH OZONE PARK        2173\n",
       "LONG ISLAND CITY        2437\n",
       "MASPETH                 2462\n",
       "WOODHAVEN               2464\n",
       "ELMHURST                2673\n",
       "EAST ELMHURST           2734\n",
       "OZONE PARK              2755\n",
       "SOUTH RICHMOND HILL     2774\n",
       "WOODSIDE                3544\n",
       "CORONA                  4295\n",
       "RIDGEWOOD               5163\n",
       "FLUSHING                5971\n",
       "ASTORIA                 6330\n",
       "JAMAICA                 7296\n",
       "STATEN ISLAND          12343\n",
       "BRONX                  40702\n",
       "NEW YORK               65994\n",
       "BROOKLYN               98307\n",
       "Name: City, dtype: int64"
      ]
     },
     "execution_count": 13,
     "metadata": {},
     "output_type": "execute_result"
    }
   ],
   "source": [
    "# the count number of  each city in order \n",
    "service['City'].value_counts().sort_values()"
   ]
  },
  {
   "cell_type": "code",
   "execution_count": 14,
   "metadata": {},
   "outputs": [],
   "source": [
    "# Read or convert the columns ‘Created Date’ and Closed Date’ \n",
    "# to datetime datatype and create a new column ‘Request_Closing_Time’ \n",
    "# as the time elapsed between request creation and request closing. (Hint: Explore the package/module datetime)\n"
   ]
  },
  {
   "cell_type": "markdown",
   "metadata": {},
   "source": [
    "* Read or convert the columns ‘Created Date’ and Closed Date’ to datetime datatype and create a new column ‘Request_Closing_Time’ as the time elapsed between request creation and request closing. (Hint: Explore the package/module datetime)*"
   ]
  },
  {
   "cell_type": "markdown",
   "metadata": {},
   "source": [
    "#### 5:Read or convert the columns ‘Created Date’ and Closed Date’ "
   ]
  },
  {
   "cell_type": "code",
   "execution_count": 15,
   "metadata": {
    "scrolled": false
   },
   "outputs": [],
   "source": [
    "# Read or convert the columns ‘Created Date’ and Closed Date’ \n",
    "service['Created Date'] = pd.to_datetime(service['Created Date'])\n",
    "service['Closed Date'] = pd.to_datetime(service['Closed Date'])"
   ]
  },
  {
   "cell_type": "markdown",
   "metadata": {},
   "source": [
    "#### 6: create a new column ‘Request_Closing_Time’ "
   ]
  },
  {
   "cell_type": "code",
   "execution_count": 16,
   "metadata": {
    "scrolled": true
   },
   "outputs": [],
   "source": [
    "#  create a new column ‘Request_Closing_Time’ \n",
    "service[\"Request_Closing_Time\"]=(service[\"Closed Date\"]-service[\"Created Date\"])\n",
    "\n",
    "Request_Closing_Time=[]\n",
    "for index in (service[\"Closed Date\"]-service[\"Created Date\"]):\n",
    "    close=index.total_seconds()/60\n",
    "    Request_Closing_Time.append(close)\n",
    "    \n",
    "service[\"Request_Closing_Time\"]=Request_Closing_Time"
   ]
  },
  {
   "cell_type": "code",
   "execution_count": 17,
   "metadata": {},
   "outputs": [
    {
     "data": {
      "text/plain": [
       "492"
      ]
     },
     "execution_count": 17,
     "metadata": {},
     "output_type": "execute_result"
    }
   ],
   "source": [
    "service.Request_Closing_Time.value_counts().head().max()"
   ]
  },
  {
   "cell_type": "code",
   "execution_count": 18,
   "metadata": {},
   "outputs": [
    {
     "data": {
      "text/plain": [
       "Index(['Unique Key', 'Created Date', 'Closed Date', 'Agency', 'Agency Name',\n",
       "       'Complaint Type', 'Descriptor', 'Location Type', 'Incident Zip',\n",
       "       'Incident Address', 'Street Name', 'Cross Street 1', 'Cross Street 2',\n",
       "       'Intersection Street 1', 'Intersection Street 2', 'Address Type',\n",
       "       'City', 'Landmark', 'Facility Type', 'Status', 'Due Date',\n",
       "       'Resolution Description', 'Resolution Action Updated Date',\n",
       "       'Community Board', 'Borough', 'X Coordinate (State Plane)',\n",
       "       'Y Coordinate (State Plane)', 'Park Facility Name', 'Park Borough',\n",
       "       'School Name', 'School Number', 'School Region', 'School Code',\n",
       "       'School Phone Number', 'School Address', 'School City', 'School State',\n",
       "       'School Zip', 'School Not Found', 'School or Citywide Complaint',\n",
       "       'Vehicle Type', 'Taxi Company Borough', 'Taxi Pick Up Location',\n",
       "       'Bridge Highway Name', 'Bridge Highway Direction', 'Road Ramp',\n",
       "       'Bridge Highway Segment', 'Garage Lot Name', 'Ferry Direction',\n",
       "       'Ferry Terminal Name', 'Latitude', 'Longitude', 'Location',\n",
       "       'Request_Closing_Time'],\n",
       "      dtype='object')"
      ]
     },
     "execution_count": 18,
     "metadata": {},
     "output_type": "execute_result"
    }
   ],
   "source": [
    "service.columns"
   ]
  },
  {
   "cell_type": "markdown",
   "metadata": {},
   "source": [
    "# Data Visualization"
   ]
  },
  {
   "cell_type": "markdown",
   "metadata": {},
   "source": [
    "---"
   ]
  },
  {
   "cell_type": "code",
   "execution_count": 19,
   "metadata": {
    "scrolled": false
   },
   "outputs": [
    {
     "data": {
      "text/plain": [
       "Text(0, 0.5, 'Complaint Type')"
      ]
     },
     "execution_count": 19,
     "metadata": {},
     "output_type": "execute_result"
    },
    {
     "data": {
      "image/png": "[encoded data removed]",
      "text/plain": [
       "<Figure size 720x720 with 1 Axes>"
      ]
     },
     "metadata": {
      "needs_background": "light"
     },
     "output_type": "display_data"
    }
   ],
   "source": [
    "# lest plot the complains types\n",
    "service['Complaint Type'].value_counts().sort_values().plot(kind ='barh',figsize = (10,10),title = 'The Frequency Of Complaint Types')\n",
    "plt.xlabel('Count')\n",
    "plt.ylabel('Complaint Type')"
   ]
  },
  {
   "cell_type": "markdown",
   "metadata": {},
   "source": [
    "*the most common issues complaint types are blocked driveway, illegal parking, noise stress and noise commercial*"
   ]
  },
  {
   "cell_type": "markdown",
   "metadata": {},
   "source": [
    "TYPICAL HISTOGRAM SHAPES AND WHAT THEY MEAN"
   ]
  },
  {
   "cell_type": "code",
   "execution_count": 20,
   "metadata": {},
   "outputs": [
    {
     "data": {
      "image/png": "[encoded data removed]",
      "text/plain": [
       "<Figure size 432x288 with 1 Axes>"
      ]
     },
     "metadata": {
      "needs_background": "light"
     },
     "output_type": "display_data"
    }
   ],
   "source": [
    "sns.distplot(service[\"Request_Closing_Time\"].dropna())\n",
    "plt.xlim((0,5000))\n",
    "plt.ylim((0,0.0003))\n",
    "plt.show()"
   ]
  },
  {
   "cell_type": "markdown",
   "metadata": {},
   "source": [
    "Skewed Distribution\n",
    "The skewed distribution is asymmetrical because a natural limit prevents outcomes on one side. The distribution’s peak is off center toward the limit and a tail stretches away from it. For example, a distribution of analyses of a very pure product would be skewed, because the product cannot be more than 100 percent pure. Other examples of natural limits are holes that cannot be smaller than the diameter of the drill bit or call-handling times that cannot be less than zero. These distributions are called right- or left-skewed according to the direction of the tail.\n",
    "\n"
   ]
  },
  {
   "cell_type": "markdown",
   "metadata": {},
   "source": [
    "we can see that the data is right skewed.  Because the outliers and the requests are solved in less than 1000 hours."
   ]
  },
  {
   "cell_type": "code",
   "execution_count": 21,
   "metadata": {},
   "outputs": [
    {
     "data": {
      "text/plain": [
       "array(['NYPD'], dtype=object)"
      ]
     },
     "execution_count": 21,
     "metadata": {},
     "output_type": "execute_result"
    }
   ],
   "source": [
    "service[\"Agency\"].unique()"
   ]
  },
  {
   "cell_type": "code",
   "execution_count": 22,
   "metadata": {},
   "outputs": [
    {
     "data": {
      "text/plain": [
       "array(['Street/Sidewalk', 'Club/Bar/Restaurant', 'Store/Commercial',\n",
       "       'House of Worship', 'Residential Building/House',\n",
       "       'Residential Building', 'Park/Playground', 'Vacant Lot',\n",
       "       'House and Store', 'Highway', 'Commercial', 'Roadway Tunnel',\n",
       "       'Subway Station', 'Parking Lot', 'Bridge', 'Terminal', nan,\n",
       "       'Ferry', 'Park'], dtype=object)"
      ]
     },
     "execution_count": 22,
     "metadata": {},
     "output_type": "execute_result"
    }
   ],
   "source": [
    "service['Location Type'].unique()"
   ]
  },
  {
   "cell_type": "code",
   "execution_count": 23,
   "metadata": {},
   "outputs": [
    {
     "data": {
      "image/png": "[encoded data removed]",
      "text/plain": [
       "<Figure size 1080x504 with 1 Axes>"
      ]
     },
     "metadata": {
      "needs_background": "light"
     },
     "output_type": "display_data"
    }
   ],
   "source": [
    "#Categorical Scatter Plot to understand which type of complaints are taking more time to get resolved\n",
    "g=sns.catplot(x='Complaint Type', y=\"Request_Closing_Time\",data=service)\n",
    "g.fig.set_figwidth(15)\n",
    "g.fig.set_figheight(7)\n",
    "plt.xticks(rotation=90)\n",
    "plt.ylim((0,5050))\n",
    "plt.show()"
   ]
  },
  {
   "cell_type": "code",
   "execution_count": 24,
   "metadata": {
    "scrolled": false
   },
   "outputs": [
    {
     "data": {
      "image/png": "[encoded data removed]",
      "text/plain": [
       "<Figure size 720x432 with 1 Axes>"
      ]
     },
     "metadata": {
      "needs_background": "light"
     },
     "output_type": "display_data"
    }
   ],
   "source": [
    "# Count plot to know the status of the requests\n",
    "service['Status'].value_counts().plot(kind='bar',alpha=0.6,figsize=(10,6))\n",
    "plt.title('Status')\n",
    "plt.xlabel('cases')\n",
    "plt.ylabel('Count')\n",
    "plt.show()\n"
   ]
  },
  {
   "cell_type": "code",
   "execution_count": 25,
   "metadata": {},
   "outputs": [
    {
     "data": {
      "text/plain": [
       "count    298534.000000\n",
       "mean        258.863880\n",
       "std         365.369031\n",
       "min           1.000000\n",
       "25%          76.550000\n",
       "50%         162.925000\n",
       "75%         321.000000\n",
       "max       35572.366667\n",
       "Name: Request_Closing_Time, dtype: float64"
      ]
     },
     "execution_count": 25,
     "metadata": {},
     "output_type": "execute_result"
    }
   ],
   "source": [
    "service['Request_Closing_Time'].describe()"
   ]
  },
  {
   "cell_type": "code",
   "execution_count": 26,
   "metadata": {},
   "outputs": [
    {
     "name": "stdout",
     "output_type": "stream",
     "text": [
      "99.25938981968619 % of the cases are closed states\n"
     ]
    }
   ],
   "source": [
    "# colucate the presentage of closed state\n",
    "print(str((service['Status'].value_counts()[0]/len(service))*100) +' % of the cases are closed states')"
   ]
  },
  {
   "cell_type": "code",
   "execution_count": 27,
   "metadata": {},
   "outputs": [
    {
     "data": {
      "image/png": "[encoded data removed]",
      "text/plain": [
       "<Figure size 864x504 with 1 Axes>"
      ]
     },
     "metadata": {
      "needs_background": "light"
     },
     "output_type": "display_data"
    }
   ],
   "source": [
    "#Count Plot for Columns Borough\n",
    "plt.figure(figsize=(12,7))\n",
    "service['Borough'].value_counts().plot(kind='bar',alpha=0.7)\n",
    "plt.title('Borough')\n",
    "plt.xlabel('Borough')\n",
    "plt.ylabel('Count')\n",
    "plt.show()"
   ]
  },
  {
   "cell_type": "markdown",
   "metadata": {
    "scrolled": true
   },
   "source": [
    "#### 1: What is the Percentage of cases in each Borough?"
   ]
  },
  {
   "cell_type": "code",
   "execution_count": 28,
   "metadata": {},
   "outputs": [
    {
     "name": "stdout",
     "output_type": "stream",
     "text": [
      "the Percentage from MANHATTAN Borough is 21.99 %\n",
      "the Percentage from QUEENS Borough is 26.82 %\n",
      "the Percentage from BRONX Borough is 13.54 %\n",
      "the Percentage from BROOKLYN Borough is 32.69 %\n",
      "the Percentage from Unspecified Borough is 0.86 %\n",
      "the Percentage from STATEN ISLAND Borough is 4.1 %\n"
     ]
    }
   ],
   "source": [
    " percentage_borough=[print(\"the Percentage from\",i,\"Borough is\",round((service[\"Borough\"]==i).sum()/len(service)*100,2),\"%\") for i in service[\"Borough\"].unique()] "
   ]
  },
  {
   "cell_type": "code",
   "execution_count": 29,
   "metadata": {},
   "outputs": [
    {
     "data": {
      "text/plain": [
       "258.86387971442474"
      ]
     },
     "execution_count": 29,
     "metadata": {},
     "output_type": "execute_result"
    }
   ],
   "source": [
    "service[\"Request_Closing_Time\"].mean()"
   ]
  },
  {
   "cell_type": "code",
   "execution_count": 30,
   "metadata": {},
   "outputs": [
    {
     "data": {
      "text/html": [
       "<div>\n",
       "<style scoped>\n",
       "    .dataframe tbody tr th:only-of-type {\n",
       "        vertical-align: middle;\n",
       "    }\n",
       "\n",
       "    .dataframe tbody tr th {\n",
       "        vertical-align: top;\n",
       "    }\n",
       "\n",
       "    .dataframe thead th {\n",
       "        text-align: right;\n",
       "    }\n",
       "</style>\n",
       "<table border=\"1\" class=\"dataframe\">\n",
       "  <thead>\n",
       "    <tr style=\"text-align: right;\">\n",
       "      <th></th>\n",
       "      <th>Location Type</th>\n",
       "    </tr>\n",
       "  </thead>\n",
       "  <tbody>\n",
       "    <tr>\n",
       "      <td>0</td>\n",
       "      <td>Street/Sidewalk</td>\n",
       "    </tr>\n",
       "    <tr>\n",
       "      <td>1</td>\n",
       "      <td>Street/Sidewalk</td>\n",
       "    </tr>\n",
       "    <tr>\n",
       "      <td>2</td>\n",
       "      <td>Street/Sidewalk</td>\n",
       "    </tr>\n",
       "    <tr>\n",
       "      <td>3</td>\n",
       "      <td>Street/Sidewalk</td>\n",
       "    </tr>\n",
       "    <tr>\n",
       "      <td>4</td>\n",
       "      <td>Street/Sidewalk</td>\n",
       "    </tr>\n",
       "    <tr>\n",
       "      <td>...</td>\n",
       "      <td>...</td>\n",
       "    </tr>\n",
       "    <tr>\n",
       "      <td>300693</td>\n",
       "      <td>Club/Bar/Restaurant</td>\n",
       "    </tr>\n",
       "    <tr>\n",
       "      <td>300694</td>\n",
       "      <td>Street/Sidewalk</td>\n",
       "    </tr>\n",
       "    <tr>\n",
       "      <td>300695</td>\n",
       "      <td>Club/Bar/Restaurant</td>\n",
       "    </tr>\n",
       "    <tr>\n",
       "      <td>300696</td>\n",
       "      <td>Club/Bar/Restaurant</td>\n",
       "    </tr>\n",
       "    <tr>\n",
       "      <td>300697</td>\n",
       "      <td>Store/Commercial</td>\n",
       "    </tr>\n",
       "  </tbody>\n",
       "</table>\n",
       "<p>300698 rows × 1 columns</p>\n",
       "</div>"
      ],
      "text/plain": [
       "              Location Type\n",
       "0           Street/Sidewalk\n",
       "1           Street/Sidewalk\n",
       "2           Street/Sidewalk\n",
       "3           Street/Sidewalk\n",
       "4           Street/Sidewalk\n",
       "...                     ...\n",
       "300693  Club/Bar/Restaurant\n",
       "300694      Street/Sidewalk\n",
       "300695  Club/Bar/Restaurant\n",
       "300696  Club/Bar/Restaurant\n",
       "300697     Store/Commercial\n",
       "\n",
       "[300698 rows x 1 columns]"
      ]
     },
     "execution_count": 30,
     "metadata": {},
     "output_type": "execute_result"
    }
   ],
   "source": [
    "service[['Location Type']]"
   ]
  },
  {
   "cell_type": "markdown",
   "metadata": {},
   "source": [
    "#### 2: Order the complaint types based on the average ‘Request_Closing_Time’, grouping them for different locations"
   ]
  },
  {
   "cell_type": "code",
   "execution_count": 31,
   "metadata": {
    "scrolled": false
   },
   "outputs": [
    {
     "data": {
      "text/html": [
       "<div>\n",
       "<style scoped>\n",
       "    .dataframe tbody tr th:only-of-type {\n",
       "        vertical-align: middle;\n",
       "    }\n",
       "\n",
       "    .dataframe tbody tr th {\n",
       "        vertical-align: top;\n",
       "    }\n",
       "\n",
       "    .dataframe thead th {\n",
       "        text-align: right;\n",
       "    }\n",
       "</style>\n",
       "<table border=\"1\" class=\"dataframe\">\n",
       "  <thead>\n",
       "    <tr style=\"text-align: right;\">\n",
       "      <th></th>\n",
       "      <th>City</th>\n",
       "      <th>Request_Closing_Time</th>\n",
       "    </tr>\n",
       "  </thead>\n",
       "  <tbody>\n",
       "    <tr>\n",
       "      <td>0</td>\n",
       "      <td>ARVERNE</td>\n",
       "      <td>135.895606</td>\n",
       "    </tr>\n",
       "    <tr>\n",
       "      <td>1</td>\n",
       "      <td>ROCKAWAY PARK</td>\n",
       "      <td>139.133736</td>\n",
       "    </tr>\n",
       "    <tr>\n",
       "      <td>2</td>\n",
       "      <td>LITTLE NECK</td>\n",
       "      <td>154.660316</td>\n",
       "    </tr>\n",
       "    <tr>\n",
       "      <td>3</td>\n",
       "      <td>OAKLAND GARDENS</td>\n",
       "      <td>157.853146</td>\n",
       "    </tr>\n",
       "    <tr>\n",
       "      <td>4</td>\n",
       "      <td>BAYSIDE</td>\n",
       "      <td>160.759992</td>\n",
       "    </tr>\n",
       "    <tr>\n",
       "      <td>5</td>\n",
       "      <td>FAR ROCKAWAY</td>\n",
       "      <td>167.399774</td>\n",
       "    </tr>\n",
       "    <tr>\n",
       "      <td>6</td>\n",
       "      <td>NEW YORK</td>\n",
       "      <td>178.357371</td>\n",
       "    </tr>\n",
       "    <tr>\n",
       "      <td>7</td>\n",
       "      <td>FLUSHING</td>\n",
       "      <td>181.081826</td>\n",
       "    </tr>\n",
       "    <tr>\n",
       "      <td>8</td>\n",
       "      <td>FOREST HILLS</td>\n",
       "      <td>193.449032</td>\n",
       "    </tr>\n",
       "    <tr>\n",
       "      <td>9</td>\n",
       "      <td>CORONA</td>\n",
       "      <td>193.670512</td>\n",
       "    </tr>\n",
       "    <tr>\n",
       "      <td>10</td>\n",
       "      <td>WHITESTONE</td>\n",
       "      <td>194.688843</td>\n",
       "    </tr>\n",
       "    <tr>\n",
       "      <td>11</td>\n",
       "      <td>FRESH MEADOWS</td>\n",
       "      <td>195.843207</td>\n",
       "    </tr>\n",
       "    <tr>\n",
       "      <td>12</td>\n",
       "      <td>COLLEGE POINT</td>\n",
       "      <td>196.417842</td>\n",
       "    </tr>\n",
       "    <tr>\n",
       "      <td>13</td>\n",
       "      <td>JACKSON HEIGHTS</td>\n",
       "      <td>196.419964</td>\n",
       "    </tr>\n",
       "    <tr>\n",
       "      <td>14</td>\n",
       "      <td>CENTRAL PARK</td>\n",
       "      <td>197.658591</td>\n",
       "    </tr>\n",
       "    <tr>\n",
       "      <td>15</td>\n",
       "      <td>ELMHURST</td>\n",
       "      <td>198.631095</td>\n",
       "    </tr>\n",
       "    <tr>\n",
       "      <td>16</td>\n",
       "      <td>REGO PARK</td>\n",
       "      <td>207.665668</td>\n",
       "    </tr>\n",
       "    <tr>\n",
       "      <td>17</td>\n",
       "      <td>BREEZY POINT</td>\n",
       "      <td>209.789444</td>\n",
       "    </tr>\n",
       "    <tr>\n",
       "      <td>18</td>\n",
       "      <td>EAST ELMHURST</td>\n",
       "      <td>214.659709</td>\n",
       "    </tr>\n",
       "    <tr>\n",
       "      <td>19</td>\n",
       "      <td>STATEN ISLAND</td>\n",
       "      <td>232.796699</td>\n",
       "    </tr>\n",
       "    <tr>\n",
       "      <td>20</td>\n",
       "      <td>Howard Beach</td>\n",
       "      <td>241.750000</td>\n",
       "    </tr>\n",
       "    <tr>\n",
       "      <td>21</td>\n",
       "      <td>BROOKLYN</td>\n",
       "      <td>242.878848</td>\n",
       "    </tr>\n",
       "    <tr>\n",
       "      <td>22</td>\n",
       "      <td>Long Island City</td>\n",
       "      <td>246.045522</td>\n",
       "    </tr>\n",
       "    <tr>\n",
       "      <td>23</td>\n",
       "      <td>Astoria</td>\n",
       "      <td>251.076304</td>\n",
       "    </tr>\n",
       "    <tr>\n",
       "      <td>24</td>\n",
       "      <td>RIDGEWOOD</td>\n",
       "      <td>266.507613</td>\n",
       "    </tr>\n",
       "    <tr>\n",
       "      <td>25</td>\n",
       "      <td>ASTORIA</td>\n",
       "      <td>275.934779</td>\n",
       "    </tr>\n",
       "    <tr>\n",
       "      <td>26</td>\n",
       "      <td>SAINT ALBANS</td>\n",
       "      <td>283.252098</td>\n",
       "    </tr>\n",
       "    <tr>\n",
       "      <td>27</td>\n",
       "      <td>KEW GARDENS</td>\n",
       "      <td>302.578556</td>\n",
       "    </tr>\n",
       "    <tr>\n",
       "      <td>28</td>\n",
       "      <td>Woodside</td>\n",
       "      <td>312.083333</td>\n",
       "    </tr>\n",
       "    <tr>\n",
       "      <td>29</td>\n",
       "      <td>JAMAICA</td>\n",
       "      <td>312.606051</td>\n",
       "    </tr>\n",
       "    <tr>\n",
       "      <td>30</td>\n",
       "      <td>SOUTH OZONE PARK</td>\n",
       "      <td>319.678662</td>\n",
       "    </tr>\n",
       "    <tr>\n",
       "      <td>31</td>\n",
       "      <td>MIDDLE VILLAGE</td>\n",
       "      <td>323.097583</td>\n",
       "    </tr>\n",
       "    <tr>\n",
       "      <td>32</td>\n",
       "      <td>RICHMOND HILL</td>\n",
       "      <td>329.658614</td>\n",
       "    </tr>\n",
       "    <tr>\n",
       "      <td>33</td>\n",
       "      <td>WOODHAVEN</td>\n",
       "      <td>335.728705</td>\n",
       "    </tr>\n",
       "    <tr>\n",
       "      <td>34</td>\n",
       "      <td>MASPETH</td>\n",
       "      <td>335.985805</td>\n",
       "    </tr>\n",
       "    <tr>\n",
       "      <td>35</td>\n",
       "      <td>SOUTH RICHMOND HILL</td>\n",
       "      <td>337.049201</td>\n",
       "    </tr>\n",
       "    <tr>\n",
       "      <td>36</td>\n",
       "      <td>OZONE PARK</td>\n",
       "      <td>340.863702</td>\n",
       "    </tr>\n",
       "    <tr>\n",
       "      <td>37</td>\n",
       "      <td>HOLLIS</td>\n",
       "      <td>345.610161</td>\n",
       "    </tr>\n",
       "    <tr>\n",
       "      <td>38</td>\n",
       "      <td>East Elmhurst</td>\n",
       "      <td>362.867857</td>\n",
       "    </tr>\n",
       "    <tr>\n",
       "      <td>39</td>\n",
       "      <td>BRONX</td>\n",
       "      <td>365.769723</td>\n",
       "    </tr>\n",
       "    <tr>\n",
       "      <td>40</td>\n",
       "      <td>HOWARD BEACH</td>\n",
       "      <td>369.652291</td>\n",
       "    </tr>\n",
       "    <tr>\n",
       "      <td>41</td>\n",
       "      <td>LONG ISLAND CITY</td>\n",
       "      <td>392.351457</td>\n",
       "    </tr>\n",
       "    <tr>\n",
       "      <td>42</td>\n",
       "      <td>SUNNYSIDE</td>\n",
       "      <td>411.120332</td>\n",
       "    </tr>\n",
       "    <tr>\n",
       "      <td>43</td>\n",
       "      <td>WOODSIDE</td>\n",
       "      <td>413.606029</td>\n",
       "    </tr>\n",
       "    <tr>\n",
       "      <td>44</td>\n",
       "      <td>NEW HYDE PARK</td>\n",
       "      <td>453.365646</td>\n",
       "    </tr>\n",
       "    <tr>\n",
       "      <td>45</td>\n",
       "      <td>GLEN OAKS</td>\n",
       "      <td>528.943900</td>\n",
       "    </tr>\n",
       "    <tr>\n",
       "      <td>46</td>\n",
       "      <td>SPRINGFIELD GARDENS</td>\n",
       "      <td>551.145130</td>\n",
       "    </tr>\n",
       "    <tr>\n",
       "      <td>47</td>\n",
       "      <td>ROSEDALE</td>\n",
       "      <td>601.867552</td>\n",
       "    </tr>\n",
       "    <tr>\n",
       "      <td>48</td>\n",
       "      <td>CAMBRIA HEIGHTS</td>\n",
       "      <td>607.426555</td>\n",
       "    </tr>\n",
       "    <tr>\n",
       "      <td>49</td>\n",
       "      <td>BELLEROSE</td>\n",
       "      <td>633.386578</td>\n",
       "    </tr>\n",
       "    <tr>\n",
       "      <td>50</td>\n",
       "      <td>QUEENS VILLAGE</td>\n",
       "      <td>654.411273</td>\n",
       "    </tr>\n",
       "    <tr>\n",
       "      <td>51</td>\n",
       "      <td>FLORAL PARK</td>\n",
       "      <td>703.171272</td>\n",
       "    </tr>\n",
       "    <tr>\n",
       "      <td>52</td>\n",
       "      <td>QUEENS</td>\n",
       "      <td>815.586458</td>\n",
       "    </tr>\n",
       "  </tbody>\n",
       "</table>\n",
       "</div>"
      ],
      "text/plain": [
       "                   City  Request_Closing_Time\n",
       "0               ARVERNE            135.895606\n",
       "1         ROCKAWAY PARK            139.133736\n",
       "2           LITTLE NECK            154.660316\n",
       "3       OAKLAND GARDENS            157.853146\n",
       "4               BAYSIDE            160.759992\n",
       "5          FAR ROCKAWAY            167.399774\n",
       "6              NEW YORK            178.357371\n",
       "7              FLUSHING            181.081826\n",
       "8          FOREST HILLS            193.449032\n",
       "9                CORONA            193.670512\n",
       "10           WHITESTONE            194.688843\n",
       "11        FRESH MEADOWS            195.843207\n",
       "12        COLLEGE POINT            196.417842\n",
       "13      JACKSON HEIGHTS            196.419964\n",
       "14         CENTRAL PARK            197.658591\n",
       "15             ELMHURST            198.631095\n",
       "16            REGO PARK            207.665668\n",
       "17         BREEZY POINT            209.789444\n",
       "18        EAST ELMHURST            214.659709\n",
       "19        STATEN ISLAND            232.796699\n",
       "20         Howard Beach            241.750000\n",
       "21             BROOKLYN            242.878848\n",
       "22     Long Island City            246.045522\n",
       "23              Astoria            251.076304\n",
       "24            RIDGEWOOD            266.507613\n",
       "25              ASTORIA            275.934779\n",
       "26         SAINT ALBANS            283.252098\n",
       "27          KEW GARDENS            302.578556\n",
       "28             Woodside            312.083333\n",
       "29              JAMAICA            312.606051\n",
       "30     SOUTH OZONE PARK            319.678662\n",
       "31       MIDDLE VILLAGE            323.097583\n",
       "32        RICHMOND HILL            329.658614\n",
       "33            WOODHAVEN            335.728705\n",
       "34              MASPETH            335.985805\n",
       "35  SOUTH RICHMOND HILL            337.049201\n",
       "36           OZONE PARK            340.863702\n",
       "37               HOLLIS            345.610161\n",
       "38        East Elmhurst            362.867857\n",
       "39                BRONX            365.769723\n",
       "40         HOWARD BEACH            369.652291\n",
       "41     LONG ISLAND CITY            392.351457\n",
       "42            SUNNYSIDE            411.120332\n",
       "43             WOODSIDE            413.606029\n",
       "44        NEW HYDE PARK            453.365646\n",
       "45            GLEN OAKS            528.943900\n",
       "46  SPRINGFIELD GARDENS            551.145130\n",
       "47             ROSEDALE            601.867552\n",
       "48      CAMBRIA HEIGHTS            607.426555\n",
       "49            BELLEROSE            633.386578\n",
       "50       QUEENS VILLAGE            654.411273\n",
       "51          FLORAL PARK            703.171272\n",
       "52               QUEENS            815.586458"
      ]
     },
     "execution_count": 31,
     "metadata": {},
     "output_type": "execute_result"
    }
   ],
   "source": [
    "#Request Closing Time for all City sorted in ascending Order\n",
    "request_colsein_mean_time=pd.DataFrame(service.groupby(\"City\")[\"Request_Closing_Time\"].mean()).sort_values(\"Request_Closing_Time\").reset_index()\n",
    "request_colsein_mean_time"
   ]
  },
  {
   "cell_type": "code",
   "execution_count": 32,
   "metadata": {},
   "outputs": [
    {
     "data": {
      "text/plain": [
       "City                    Woodside\n",
       "Request_Closing_Time     815.586\n",
       "dtype: object"
      ]
     },
     "execution_count": 32,
     "metadata": {},
     "output_type": "execute_result"
    }
   ],
   "source": [
    "request_colsein_mean_time.max()"
   ]
  },
  {
   "cell_type": "code",
   "execution_count": 33,
   "metadata": {},
   "outputs": [
    {
     "data": {
      "text/plain": [
       "City                    ARVERNE\n",
       "Request_Closing_Time    135.896\n",
       "dtype: object"
      ]
     },
     "execution_count": 33,
     "metadata": {},
     "output_type": "execute_result"
    }
   ],
   "source": [
    "request_colsein_mean_time.min()"
   ]
  },
  {
   "cell_type": "markdown",
   "metadata": {},
   "source": [
    "#### 3:Histogram plot (Request_Mean_Closing_Time)"
   ]
  },
  {
   "cell_type": "code",
   "execution_count": 34,
   "metadata": {
    "scrolled": false
   },
   "outputs": [
    {
     "data": {
      "text/plain": [
       "Text(0.5, 1.0, 'Request_Mean_Closing_Time')"
      ]
     },
     "execution_count": 34,
     "metadata": {},
     "output_type": "execute_result"
    },
    {
     "data": {
      "image/png": "[encoded data removed]",
      "text/plain": [
       "<Figure size 432x288 with 1 Axes>"
      ]
     },
     "metadata": {
      "needs_background": "light"
     },
     "output_type": "display_data"
    }
   ],
   "source": [
    "request_colsein_mean_time.hist(column='Request_Closing_Time')\n",
    "plt.title('Request_Mean_Closing_Time')"
   ]
  },
  {
   "cell_type": "markdown",
   "metadata": {},
   "source": [
    "#### 4: ploting Request_Mean_Closing_Time with city"
   ]
  },
  {
   "cell_type": "code",
   "execution_count": 35,
   "metadata": {},
   "outputs": [
    {
     "data": {
      "image/png": "[encoded data removed]",
      "text/plain": [
       "<Figure size 1080x504 with 1 Axes>"
      ]
     },
     "metadata": {
      "needs_background": "light"
     },
     "output_type": "display_data"
    }
   ],
   "source": [
    "g=sns.catplot(x='City', y=\"Request_Closing_Time\",data=request_colsein_mean_time)\n",
    "g.fig.set_figwidth(15)\n",
    "g.fig.set_figheight(7)\n",
    "plt.title('Request_Mean_Closing_Time with city')\n",
    "\n",
    "plt.xticks(rotation=90)\n",
    "plt.ylim((0,700))\n",
    "plt.show()"
   ]
  },
  {
   "cell_type": "markdown",
   "metadata": {},
   "source": [
    "#### 5 :Drop unnecessary columns that are null values"
   ]
  },
  {
   "cell_type": "code",
   "execution_count": 36,
   "metadata": {},
   "outputs": [
    {
     "data": {
      "text/plain": [
       "Unique Key                        False\n",
       "Created Date                      False\n",
       "Closed Date                       False\n",
       "Agency                            False\n",
       "Agency Name                       False\n",
       "Complaint Type                    False\n",
       "Descriptor                        False\n",
       "Location Type                     False\n",
       "Incident Zip                      False\n",
       "Incident Address                  False\n",
       "Street Name                       False\n",
       "Cross Street 1                    False\n",
       "Cross Street 2                    False\n",
       "Intersection Street 1             False\n",
       "Intersection Street 2             False\n",
       "Address Type                      False\n",
       "City                              False\n",
       "Landmark                          False\n",
       "Facility Type                     False\n",
       "Status                            False\n",
       "Due Date                          False\n",
       "Resolution Description            False\n",
       "Resolution Action Updated Date    False\n",
       "Community Board                   False\n",
       "Borough                           False\n",
       "X Coordinate (State Plane)        False\n",
       "Y Coordinate (State Plane)        False\n",
       "Park Facility Name                False\n",
       "Park Borough                      False\n",
       "School Name                       False\n",
       "School Number                     False\n",
       "School Region                     False\n",
       "School Code                       False\n",
       "School Phone Number               False\n",
       "School Address                    False\n",
       "School City                       False\n",
       "School State                      False\n",
       "School Zip                        False\n",
       "School Not Found                  False\n",
       "School or Citywide Complaint       True\n",
       "Vehicle Type                       True\n",
       "Taxi Company Borough               True\n",
       "Taxi Pick Up Location              True\n",
       "Bridge Highway Name               False\n",
       "Bridge Highway Direction          False\n",
       "Road Ramp                         False\n",
       "Bridge Highway Segment            False\n",
       "Garage Lot Name                    True\n",
       "Ferry Direction                   False\n",
       "Ferry Terminal Name               False\n",
       "Latitude                          False\n",
       "Longitude                         False\n",
       "Location                          False\n",
       "Request_Closing_Time              False\n",
       "dtype: bool"
      ]
     },
     "execution_count": 36,
     "metadata": {},
     "output_type": "execute_result"
    }
   ],
   "source": [
    "# what 100% contain nulls values \n",
    "service.isnull().sum()==(len(service))"
   ]
  },
  {
   "cell_type": "code",
   "execution_count": null,
   "metadata": {
    "scrolled": false
   },
   "outputs": [],
   "source": []
  },
  {
   "cell_type": "code",
   "execution_count": 37,
   "metadata": {},
   "outputs": [
    {
     "name": "stdout",
     "output_type": "stream",
     "text": [
      "Agency           :  ['NYPD']\n",
      "Agency Name           :  ['New York City Police Department' 'NYPD' 'Internal Affairs Bureau']\n",
      "Facility Type           :  ['Precinct' nan]\n",
      "Park Facility Name           :  ['Unspecified' 'Alley Pond Park - Nature Center']\n",
      "School Name           :  ['Unspecified' 'Alley Pond Park - Nature Center']\n",
      "School Number           :  ['Unspecified' 'Q001']\n",
      "School Region           :  ['Unspecified' nan]\n",
      "School Code           :  ['Unspecified' nan]\n",
      "School Phone Number           :  ['Unspecified' '7182176034']\n",
      "School Address           :  ['Unspecified' 'Grand Central Parkway, near the soccer field']\n",
      "School City           :  ['Unspecified' 'QUEENS']\n",
      "School State           :  ['Unspecified' 'NY']\n",
      "School Zip           :  ['Unspecified' nan]\n",
      "School Not Found           :  ['N']\n",
      "School or Citywide Complaint           :  [nan]\n",
      "Vehicle Type           :  [nan]\n",
      "Taxi Company Borough           :  [nan]\n",
      "Taxi Pick Up Location           :  [nan]\n",
      "Road Ramp           :  [nan 'Roadway' 'Ramp']\n",
      "Garage Lot Name           :  [nan]\n",
      "Ferry Direction           :  [nan 'Manhattan Bound']\n",
      "Ferry Terminal Name           :  [nan 'St. George Terminal (Staten Island)' 'Barberi']\n"
     ]
    }
   ],
   "source": [
    "det=[]\n",
    "for x in service.columns.tolist():\n",
    "    if service[x].nunique()<=3:\n",
    "        print(x+ \" \"*10+\" : \",service[x].unique())\n",
    "        det.append(x)"
   ]
  },
  {
   "cell_type": "code",
   "execution_count": 38,
   "metadata": {},
   "outputs": [],
   "source": [
    "service.drop(det,axis=1,inplace=True)"
   ]
  },
  {
   "cell_type": "code",
   "execution_count": 39,
   "metadata": {},
   "outputs": [
    {
     "data": {
      "text/plain": [
       "(300698, 32)"
      ]
     },
     "execution_count": 39,
     "metadata": {},
     "output_type": "execute_result"
    }
   ],
   "source": [
    "service.shape"
   ]
  },
  {
   "cell_type": "code",
   "execution_count": 40,
   "metadata": {},
   "outputs": [],
   "source": [
    "columns_unnecessary =[\"Unique Key\",\"Incident Address\",\"Descriptor\",\"Street Name\",\"Cross Street 1\",\"Cross Street 2\",\"Due Date\",\"Resolution Description\",\"Resolution Action Updated Date\",\"Community Board\",\"X Coordinate (State Plane)\",\"Y Coordinate (State Plane)\",\"Park Borough\",\"Latitude\",\"Longitude\",\"Location\"]\n",
    "service.drop(columns_unnecessary,axis=1,inplace=True)"
   ]
  },
  {
   "cell_type": "code",
   "execution_count": 41,
   "metadata": {},
   "outputs": [
    {
     "data": {
      "text/html": [
       "<div>\n",
       "<style scoped>\n",
       "    .dataframe tbody tr th:only-of-type {\n",
       "        vertical-align: middle;\n",
       "    }\n",
       "\n",
       "    .dataframe tbody tr th {\n",
       "        vertical-align: top;\n",
       "    }\n",
       "\n",
       "    .dataframe thead th {\n",
       "        text-align: right;\n",
       "    }\n",
       "</style>\n",
       "<table border=\"1\" class=\"dataframe\">\n",
       "  <thead>\n",
       "    <tr style=\"text-align: right;\">\n",
       "      <th></th>\n",
       "      <th>Created Date</th>\n",
       "      <th>Closed Date</th>\n",
       "      <th>Complaint Type</th>\n",
       "      <th>Location Type</th>\n",
       "      <th>Incident Zip</th>\n",
       "      <th>Intersection Street 1</th>\n",
       "      <th>Intersection Street 2</th>\n",
       "      <th>Address Type</th>\n",
       "      <th>City</th>\n",
       "      <th>Landmark</th>\n",
       "      <th>Status</th>\n",
       "      <th>Borough</th>\n",
       "      <th>Bridge Highway Name</th>\n",
       "      <th>Bridge Highway Direction</th>\n",
       "      <th>Bridge Highway Segment</th>\n",
       "      <th>Request_Closing_Time</th>\n",
       "    </tr>\n",
       "  </thead>\n",
       "  <tbody>\n",
       "    <tr>\n",
       "      <td>0</td>\n",
       "      <td>2015-12-31 23:59:45</td>\n",
       "      <td>2016-01-01 00:55:00</td>\n",
       "      <td>Noise - Street/Sidewalk</td>\n",
       "      <td>Street/Sidewalk</td>\n",
       "      <td>10034.0</td>\n",
       "      <td>NaN</td>\n",
       "      <td>NaN</td>\n",
       "      <td>ADDRESS</td>\n",
       "      <td>NEW YORK</td>\n",
       "      <td>NaN</td>\n",
       "      <td>Closed</td>\n",
       "      <td>MANHATTAN</td>\n",
       "      <td>NaN</td>\n",
       "      <td>NaN</td>\n",
       "      <td>NaN</td>\n",
       "      <td>55.250000</td>\n",
       "    </tr>\n",
       "    <tr>\n",
       "      <td>1</td>\n",
       "      <td>2015-12-31 23:59:44</td>\n",
       "      <td>2016-01-01 01:26:00</td>\n",
       "      <td>Blocked Driveway</td>\n",
       "      <td>Street/Sidewalk</td>\n",
       "      <td>11105.0</td>\n",
       "      <td>NaN</td>\n",
       "      <td>NaN</td>\n",
       "      <td>ADDRESS</td>\n",
       "      <td>ASTORIA</td>\n",
       "      <td>NaN</td>\n",
       "      <td>Closed</td>\n",
       "      <td>QUEENS</td>\n",
       "      <td>NaN</td>\n",
       "      <td>NaN</td>\n",
       "      <td>NaN</td>\n",
       "      <td>86.266667</td>\n",
       "    </tr>\n",
       "    <tr>\n",
       "      <td>2</td>\n",
       "      <td>2015-12-31 23:59:29</td>\n",
       "      <td>2016-01-01 04:51:00</td>\n",
       "      <td>Blocked Driveway</td>\n",
       "      <td>Street/Sidewalk</td>\n",
       "      <td>10458.0</td>\n",
       "      <td>NaN</td>\n",
       "      <td>NaN</td>\n",
       "      <td>ADDRESS</td>\n",
       "      <td>BRONX</td>\n",
       "      <td>NaN</td>\n",
       "      <td>Closed</td>\n",
       "      <td>BRONX</td>\n",
       "      <td>NaN</td>\n",
       "      <td>NaN</td>\n",
       "      <td>NaN</td>\n",
       "      <td>291.516667</td>\n",
       "    </tr>\n",
       "    <tr>\n",
       "      <td>3</td>\n",
       "      <td>2015-12-31 23:57:46</td>\n",
       "      <td>2016-01-01 07:43:00</td>\n",
       "      <td>Illegal Parking</td>\n",
       "      <td>Street/Sidewalk</td>\n",
       "      <td>10461.0</td>\n",
       "      <td>NaN</td>\n",
       "      <td>NaN</td>\n",
       "      <td>ADDRESS</td>\n",
       "      <td>BRONX</td>\n",
       "      <td>NaN</td>\n",
       "      <td>Closed</td>\n",
       "      <td>BRONX</td>\n",
       "      <td>NaN</td>\n",
       "      <td>NaN</td>\n",
       "      <td>NaN</td>\n",
       "      <td>465.233333</td>\n",
       "    </tr>\n",
       "    <tr>\n",
       "      <td>4</td>\n",
       "      <td>2015-12-31 23:56:58</td>\n",
       "      <td>2016-01-01 03:24:00</td>\n",
       "      <td>Illegal Parking</td>\n",
       "      <td>Street/Sidewalk</td>\n",
       "      <td>11373.0</td>\n",
       "      <td>NaN</td>\n",
       "      <td>NaN</td>\n",
       "      <td>ADDRESS</td>\n",
       "      <td>ELMHURST</td>\n",
       "      <td>NaN</td>\n",
       "      <td>Closed</td>\n",
       "      <td>QUEENS</td>\n",
       "      <td>NaN</td>\n",
       "      <td>NaN</td>\n",
       "      <td>NaN</td>\n",
       "      <td>207.033333</td>\n",
       "    </tr>\n",
       "    <tr>\n",
       "      <td>...</td>\n",
       "      <td>...</td>\n",
       "      <td>...</td>\n",
       "      <td>...</td>\n",
       "      <td>...</td>\n",
       "      <td>...</td>\n",
       "      <td>...</td>\n",
       "      <td>...</td>\n",
       "      <td>...</td>\n",
       "      <td>...</td>\n",
       "      <td>...</td>\n",
       "      <td>...</td>\n",
       "      <td>...</td>\n",
       "      <td>...</td>\n",
       "      <td>...</td>\n",
       "      <td>...</td>\n",
       "      <td>...</td>\n",
       "    </tr>\n",
       "    <tr>\n",
       "      <td>300693</td>\n",
       "      <td>2015-03-29 00:33:41</td>\n",
       "      <td>NaT</td>\n",
       "      <td>Noise - Commercial</td>\n",
       "      <td>Club/Bar/Restaurant</td>\n",
       "      <td>NaN</td>\n",
       "      <td>east 186</td>\n",
       "      <td>NaN</td>\n",
       "      <td>NaN</td>\n",
       "      <td>NaN</td>\n",
       "      <td>NaN</td>\n",
       "      <td>Open</td>\n",
       "      <td>Unspecified</td>\n",
       "      <td>NaN</td>\n",
       "      <td>NaN</td>\n",
       "      <td>NaN</td>\n",
       "      <td>NaN</td>\n",
       "    </tr>\n",
       "    <tr>\n",
       "      <td>300694</td>\n",
       "      <td>2015-03-29 00:33:28</td>\n",
       "      <td>2015-03-29 02:33:59</td>\n",
       "      <td>Blocked Driveway</td>\n",
       "      <td>Street/Sidewalk</td>\n",
       "      <td>11418.0</td>\n",
       "      <td>NaN</td>\n",
       "      <td>NaN</td>\n",
       "      <td>ADDRESS</td>\n",
       "      <td>RICHMOND HILL</td>\n",
       "      <td>NaN</td>\n",
       "      <td>Closed</td>\n",
       "      <td>QUEENS</td>\n",
       "      <td>NaN</td>\n",
       "      <td>NaN</td>\n",
       "      <td>NaN</td>\n",
       "      <td>120.516667</td>\n",
       "    </tr>\n",
       "    <tr>\n",
       "      <td>300695</td>\n",
       "      <td>2015-03-29 00:33:03</td>\n",
       "      <td>2015-03-29 03:40:20</td>\n",
       "      <td>Noise - Commercial</td>\n",
       "      <td>Club/Bar/Restaurant</td>\n",
       "      <td>11206.0</td>\n",
       "      <td>NaN</td>\n",
       "      <td>NaN</td>\n",
       "      <td>ADDRESS</td>\n",
       "      <td>BROOKLYN</td>\n",
       "      <td>NaN</td>\n",
       "      <td>Closed</td>\n",
       "      <td>BROOKLYN</td>\n",
       "      <td>NaN</td>\n",
       "      <td>NaN</td>\n",
       "      <td>NaN</td>\n",
       "      <td>187.283333</td>\n",
       "    </tr>\n",
       "    <tr>\n",
       "      <td>300696</td>\n",
       "      <td>2015-03-29 00:33:02</td>\n",
       "      <td>2015-03-29 04:38:35</td>\n",
       "      <td>Noise - Commercial</td>\n",
       "      <td>Club/Bar/Restaurant</td>\n",
       "      <td>10461.0</td>\n",
       "      <td>NaN</td>\n",
       "      <td>NaN</td>\n",
       "      <td>ADDRESS</td>\n",
       "      <td>BRONX</td>\n",
       "      <td>NaN</td>\n",
       "      <td>Closed</td>\n",
       "      <td>BRONX</td>\n",
       "      <td>NaN</td>\n",
       "      <td>NaN</td>\n",
       "      <td>NaN</td>\n",
       "      <td>245.550000</td>\n",
       "    </tr>\n",
       "    <tr>\n",
       "      <td>300697</td>\n",
       "      <td>2015-03-29 00:33:01</td>\n",
       "      <td>2015-03-29 04:41:50</td>\n",
       "      <td>Noise - Commercial</td>\n",
       "      <td>Store/Commercial</td>\n",
       "      <td>10036.0</td>\n",
       "      <td>NaN</td>\n",
       "      <td>NaN</td>\n",
       "      <td>ADDRESS</td>\n",
       "      <td>NEW YORK</td>\n",
       "      <td>NaN</td>\n",
       "      <td>Closed</td>\n",
       "      <td>MANHATTAN</td>\n",
       "      <td>NaN</td>\n",
       "      <td>NaN</td>\n",
       "      <td>NaN</td>\n",
       "      <td>248.816667</td>\n",
       "    </tr>\n",
       "  </tbody>\n",
       "</table>\n",
       "<p>300698 rows × 16 columns</p>\n",
       "</div>"
      ],
      "text/plain": [
       "              Created Date         Closed Date           Complaint Type  \\\n",
       "0      2015-12-31 23:59:45 2016-01-01 00:55:00  Noise - Street/Sidewalk   \n",
       "1      2015-12-31 23:59:44 2016-01-01 01:26:00         Blocked Driveway   \n",
       "2      2015-12-31 23:59:29 2016-01-01 04:51:00         Blocked Driveway   \n",
       "3      2015-12-31 23:57:46 2016-01-01 07:43:00          Illegal Parking   \n",
       "4      2015-12-31 23:56:58 2016-01-01 03:24:00          Illegal Parking   \n",
       "...                    ...                 ...                      ...   \n",
       "300693 2015-03-29 00:33:41                 NaT       Noise - Commercial   \n",
       "300694 2015-03-29 00:33:28 2015-03-29 02:33:59         Blocked Driveway   \n",
       "300695 2015-03-29 00:33:03 2015-03-29 03:40:20       Noise - Commercial   \n",
       "300696 2015-03-29 00:33:02 2015-03-29 04:38:35       Noise - Commercial   \n",
       "300697 2015-03-29 00:33:01 2015-03-29 04:41:50       Noise - Commercial   \n",
       "\n",
       "              Location Type  Incident Zip Intersection Street 1  \\\n",
       "0           Street/Sidewalk       10034.0                   NaN   \n",
       "1           Street/Sidewalk       11105.0                   NaN   \n",
       "2           Street/Sidewalk       10458.0                   NaN   \n",
       "3           Street/Sidewalk       10461.0                   NaN   \n",
       "4           Street/Sidewalk       11373.0                   NaN   \n",
       "...                     ...           ...                   ...   \n",
       "300693  Club/Bar/Restaurant           NaN              east 186   \n",
       "300694      Street/Sidewalk       11418.0                   NaN   \n",
       "300695  Club/Bar/Restaurant       11206.0                   NaN   \n",
       "300696  Club/Bar/Restaurant       10461.0                   NaN   \n",
       "300697     Store/Commercial       10036.0                   NaN   \n",
       "\n",
       "       Intersection Street 2 Address Type           City Landmark  Status  \\\n",
       "0                        NaN      ADDRESS       NEW YORK      NaN  Closed   \n",
       "1                        NaN      ADDRESS        ASTORIA      NaN  Closed   \n",
       "2                        NaN      ADDRESS          BRONX      NaN  Closed   \n",
       "3                        NaN      ADDRESS          BRONX      NaN  Closed   \n",
       "4                        NaN      ADDRESS       ELMHURST      NaN  Closed   \n",
       "...                      ...          ...            ...      ...     ...   \n",
       "300693                   NaN          NaN            NaN      NaN    Open   \n",
       "300694                   NaN      ADDRESS  RICHMOND HILL      NaN  Closed   \n",
       "300695                   NaN      ADDRESS       BROOKLYN      NaN  Closed   \n",
       "300696                   NaN      ADDRESS          BRONX      NaN  Closed   \n",
       "300697                   NaN      ADDRESS       NEW YORK      NaN  Closed   \n",
       "\n",
       "            Borough Bridge Highway Name Bridge Highway Direction  \\\n",
       "0         MANHATTAN                 NaN                      NaN   \n",
       "1            QUEENS                 NaN                      NaN   \n",
       "2             BRONX                 NaN                      NaN   \n",
       "3             BRONX                 NaN                      NaN   \n",
       "4            QUEENS                 NaN                      NaN   \n",
       "...             ...                 ...                      ...   \n",
       "300693  Unspecified                 NaN                      NaN   \n",
       "300694       QUEENS                 NaN                      NaN   \n",
       "300695     BROOKLYN                 NaN                      NaN   \n",
       "300696        BRONX                 NaN                      NaN   \n",
       "300697    MANHATTAN                 NaN                      NaN   \n",
       "\n",
       "       Bridge Highway Segment  Request_Closing_Time  \n",
       "0                         NaN             55.250000  \n",
       "1                         NaN             86.266667  \n",
       "2                         NaN            291.516667  \n",
       "3                         NaN            465.233333  \n",
       "4                         NaN            207.033333  \n",
       "...                       ...                   ...  \n",
       "300693                    NaN                   NaN  \n",
       "300694                    NaN            120.516667  \n",
       "300695                    NaN            187.283333  \n",
       "300696                    NaN            245.550000  \n",
       "300697                    NaN            248.816667  \n",
       "\n",
       "[300698 rows x 16 columns]"
      ]
     },
     "execution_count": 41,
     "metadata": {},
     "output_type": "execute_result"
    }
   ],
   "source": [
    "service"
   ]
  },
  {
   "cell_type": "code",
   "execution_count": 42,
   "metadata": {},
   "outputs": [],
   "source": [
    "# service['School or Citywide Complaint'].unique()"
   ]
  },
  {
   "cell_type": "code",
   "execution_count": 43,
   "metadata": {},
   "outputs": [
    {
     "data": {
      "text/plain": [
       "Created Date                     0\n",
       "Closed Date                   2164\n",
       "Complaint Type                   0\n",
       "Location Type                  131\n",
       "Incident Zip                  2615\n",
       "Intersection Street 1       256840\n",
       "Intersection Street 2       257336\n",
       "Address Type                  2815\n",
       "City                          2614\n",
       "Landmark                    300349\n",
       "Status                           0\n",
       "Borough                          0\n",
       "Bridge Highway Name         300455\n",
       "Bridge Highway Direction    300455\n",
       "Bridge Highway Segment      300485\n",
       "Request_Closing_Time          2164\n",
       "dtype: int64"
      ]
     },
     "execution_count": 43,
     "metadata": {},
     "output_type": "execute_result"
    }
   ],
   "source": [
    "service.isnull().sum()"
   ]
  },
  {
   "cell_type": "code",
   "execution_count": 44,
   "metadata": {},
   "outputs": [],
   "source": [
    "# covnvert datatime create date and close date\n",
    "columns_unnecessary2=[\"Bridge Highway Name\",\"Bridge Highway Direction\",\"Bridge Highway Segment\",\"Intersection Street 1\",\"Intersection Street 2\",\"Landmark\"]"
   ]
  },
  {
   "cell_type": "code",
   "execution_count": 45,
   "metadata": {},
   "outputs": [],
   "source": [
    "service.drop(columns_unnecessary2,axis=1,inplace=True)"
   ]
  },
  {
   "cell_type": "code",
   "execution_count": 46,
   "metadata": {},
   "outputs": [
    {
     "data": {
      "text/plain": [
       "(300698, 10)"
      ]
     },
     "execution_count": 46,
     "metadata": {},
     "output_type": "execute_result"
    }
   ],
   "source": [
    "service.shape"
   ]
  },
  {
   "cell_type": "code",
   "execution_count": 47,
   "metadata": {},
   "outputs": [],
   "source": [
    "# EDA part "
   ]
  },
  {
   "cell_type": "code",
   "execution_count": 48,
   "metadata": {},
   "outputs": [
    {
     "data": {
      "text/plain": [
       "Created Date               0\n",
       "Closed Date             2164\n",
       "Complaint Type             0\n",
       "Location Type            131\n",
       "Incident Zip            2615\n",
       "Address Type            2815\n",
       "City                    2614\n",
       "Status                     0\n",
       "Borough                    0\n",
       "Request_Closing_Time    2164\n",
       "dtype: int64"
      ]
     },
     "execution_count": 48,
     "metadata": {},
     "output_type": "execute_result"
    }
   ],
   "source": [
    "service.isnull().sum()"
   ]
  },
  {
   "cell_type": "code",
   "execution_count": 49,
   "metadata": {},
   "outputs": [],
   "source": [
    "service.dropna(inplace=True)"
   ]
  },
  {
   "cell_type": "code",
   "execution_count": 50,
   "metadata": {},
   "outputs": [
    {
     "data": {
      "text/plain": [
       "(297666, 10)"
      ]
     },
     "execution_count": 50,
     "metadata": {},
     "output_type": "execute_result"
    }
   ],
   "source": [
    "service.shape"
   ]
  },
  {
   "cell_type": "code",
   "execution_count": 51,
   "metadata": {},
   "outputs": [
    {
     "data": {
      "text/plain": [
       "Created Date            0\n",
       "Closed Date             0\n",
       "Complaint Type          0\n",
       "Location Type           0\n",
       "Incident Zip            0\n",
       "Address Type            0\n",
       "City                    0\n",
       "Status                  0\n",
       "Borough                 0\n",
       "Request_Closing_Time    0\n",
       "dtype: int64"
      ]
     },
     "execution_count": 51,
     "metadata": {},
     "output_type": "execute_result"
    }
   ],
   "source": [
    "service.isnull().sum()"
   ]
  },
  {
   "cell_type": "code",
   "execution_count": 52,
   "metadata": {},
   "outputs": [
    {
     "data": {
      "text/plain": [
       "(0, 2100)"
      ]
     },
     "execution_count": 52,
     "metadata": {},
     "output_type": "execute_result"
    },
    {
     "data": {
      "image/png": "[encoded data removed]",
      "text/plain": [
       "<Figure size 1080x576 with 1 Axes>"
      ]
     },
     "metadata": {
      "needs_background": "light"
     },
     "output_type": "display_data"
    }
   ],
   "source": [
    "g=sns.catplot(x=\"Complaint Type\",y=\"Request_Closing_Time\",kind=\"box\",data=service)\n",
    "g.fig.set_figheight(8)\n",
    "g.fig.set_figwidth(15)\n",
    "plt.xticks(rotation=90)\n",
    "plt.ylim((0,2100))"
   ]
  },
  {
   "cell_type": "markdown",
   "metadata": {},
   "source": [
    "#### 6:Hypothesis Testing"
   ]
  },
  {
   "cell_type": "markdown",
   "metadata": {},
   "source": [
    "provide a statistical test to accept or reject the Null Hypothesis along with the corresponding ‘p-value’.\n",
    "\n",
    "Whether the average response time across complaint types is similar or not (overall) Are the type of complaint or service requested and location related? "
   ]
  },
  {
   "cell_type": "markdown",
   "metadata": {},
   "source": [
    "Hypothesis Testing sample one \n",
    "- H0: there is no significant different in average of Request_Closing_Time for different complaint types \n",
    "- H1 : there is significant different in average of Request_Closing_Time for different complaint types "
   ]
  },
  {
   "cell_type": "code",
   "execution_count": 53,
   "metadata": {},
   "outputs": [],
   "source": [
    "from scipy import stats\n",
    "from scipy.stats import chi2_contingency \n",
    "\n",
    "import statsmodels.api as sm\n",
    "from statsmodels.formula.api import ols"
   ]
  },
  {
   "cell_type": "code",
   "execution_count": 54,
   "metadata": {},
   "outputs": [
    {
     "data": {
      "text/html": [
       "<div>\n",
       "<style scoped>\n",
       "    .dataframe tbody tr th:only-of-type {\n",
       "        vertical-align: middle;\n",
       "    }\n",
       "\n",
       "    .dataframe tbody tr th {\n",
       "        vertical-align: top;\n",
       "    }\n",
       "\n",
       "    .dataframe thead th {\n",
       "        text-align: right;\n",
       "    }\n",
       "</style>\n",
       "<table border=\"1\" class=\"dataframe\">\n",
       "  <thead>\n",
       "    <tr style=\"text-align: right;\">\n",
       "      <th></th>\n",
       "      <th>Request_Closing_Time</th>\n",
       "      <th>Complaint</th>\n",
       "    </tr>\n",
       "  </thead>\n",
       "  <tbody>\n",
       "    <tr>\n",
       "      <td>0</td>\n",
       "      <td>55.250000</td>\n",
       "      <td>Noise - Street/Sidewalk</td>\n",
       "    </tr>\n",
       "    <tr>\n",
       "      <td>1</td>\n",
       "      <td>86.266667</td>\n",
       "      <td>Blocked Driveway</td>\n",
       "    </tr>\n",
       "    <tr>\n",
       "      <td>2</td>\n",
       "      <td>291.516667</td>\n",
       "      <td>Blocked Driveway</td>\n",
       "    </tr>\n",
       "    <tr>\n",
       "      <td>3</td>\n",
       "      <td>465.233333</td>\n",
       "      <td>Illegal Parking</td>\n",
       "    </tr>\n",
       "    <tr>\n",
       "      <td>4</td>\n",
       "      <td>207.033333</td>\n",
       "      <td>Illegal Parking</td>\n",
       "    </tr>\n",
       "  </tbody>\n",
       "</table>\n",
       "</div>"
      ],
      "text/plain": [
       "   Request_Closing_Time                Complaint\n",
       "0             55.250000  Noise - Street/Sidewalk\n",
       "1             86.266667         Blocked Driveway\n",
       "2            291.516667         Blocked Driveway\n",
       "3            465.233333          Illegal Parking\n",
       "4            207.033333          Illegal Parking"
      ]
     },
     "execution_count": 54,
     "metadata": {},
     "output_type": "execute_result"
    }
   ],
   "source": [
    "df_test_1 =pd.DataFrame()\n",
    "df_test_1[\"Request_Closing_Time\"]=service[\"Request_Closing_Time\"]\n",
    "df_test_1[\"Complaint\"]=service[\"Complaint Type\"]\n",
    "df_test_1.head()"
   ]
  },
  {
   "cell_type": "code",
   "execution_count": 55,
   "metadata": {},
   "outputs": [
    {
     "data": {
      "text/html": [
       "<div>\n",
       "<style scoped>\n",
       "    .dataframe tbody tr th:only-of-type {\n",
       "        vertical-align: middle;\n",
       "    }\n",
       "\n",
       "    .dataframe tbody tr th {\n",
       "        vertical-align: top;\n",
       "    }\n",
       "\n",
       "    .dataframe thead th {\n",
       "        text-align: right;\n",
       "    }\n",
       "</style>\n",
       "<table border=\"1\" class=\"dataframe\">\n",
       "  <thead>\n",
       "    <tr style=\"text-align: right;\">\n",
       "      <th></th>\n",
       "      <th>df</th>\n",
       "      <th>sum_sq</th>\n",
       "      <th>mean_sq</th>\n",
       "      <th>F</th>\n",
       "      <th>PR(&gt;F)</th>\n",
       "    </tr>\n",
       "  </thead>\n",
       "  <tbody>\n",
       "    <tr>\n",
       "      <td>Complaint</td>\n",
       "      <td>20.0</td>\n",
       "      <td>1.050465e+09</td>\n",
       "      <td>5.252325e+07</td>\n",
       "      <td>409.61991</td>\n",
       "      <td>0.0</td>\n",
       "    </tr>\n",
       "    <tr>\n",
       "      <td>Residual</td>\n",
       "      <td>297645.0</td>\n",
       "      <td>3.816534e+10</td>\n",
       "      <td>1.282243e+05</td>\n",
       "      <td>NaN</td>\n",
       "      <td>NaN</td>\n",
       "    </tr>\n",
       "  </tbody>\n",
       "</table>\n",
       "</div>"
      ],
      "text/plain": [
       "                 df        sum_sq       mean_sq          F  PR(>F)\n",
       "Complaint      20.0  1.050465e+09  5.252325e+07  409.61991     0.0\n",
       "Residual   297645.0  3.816534e+10  1.282243e+05        NaN     NaN"
      ]
     },
     "execution_count": 55,
     "metadata": {},
     "output_type": "execute_result"
    }
   ],
   "source": [
    "lr = ols(\"Request_Closing_Time~Complaint\",data=df_test_1).fit()\n",
    "table=sm.stats.anova_lm(lr)\n",
    "table"
   ]
  },
  {
   "cell_type": "markdown",
   "metadata": {},
   "source": [
    "Since p value for the Complaint is less 0.0 thus we reject the null hypothesis i.e meanwhile fail to reject alternate hypothes .there is significant difference in the mean response time different type of complaint."
   ]
  },
  {
   "cell_type": "markdown",
   "metadata": {},
   "source": [
    "Hypothesis Testing sample two \n",
    "- H0:Complaint Type and Location Type are not related\n",
    "- H1:Complaint Type and Location Type are related"
   ]
  },
  {
   "cell_type": "code",
   "execution_count": 56,
   "metadata": {},
   "outputs": [],
   "source": [
    "chisq=pd.DataFrame()\n",
    "chisq[\"Location Type\"]=service[\"Location Type\"]\n",
    "chisq[\"Complaint Type\"]=service[\"Complaint Type\"]"
   ]
  },
  {
   "cell_type": "code",
   "execution_count": 57,
   "metadata": {},
   "outputs": [],
   "source": [
    "crosstab = pd.crosstab( chisq[\"Location Type\"],chisq[\"Complaint Type\"])"
   ]
  },
  {
   "cell_type": "code",
   "execution_count": 58,
   "metadata": {},
   "outputs": [],
   "source": [
    "g, p, dof, expctd = chi2_contingency(crosstab, lambda_=\"log-likelihood\")"
   ]
  },
  {
   "cell_type": "code",
   "execution_count": 59,
   "metadata": {},
   "outputs": [
    {
     "name": "stdout",
     "output_type": "stream",
     "text": [
      " related\n",
      "reject H0\n"
     ]
    }
   ],
   "source": [
    "alpha = 0.05\n",
    "if p <= alpha: \n",
    "    print(' related') \n",
    "    print('reject H0')\n",
    "else: \n",
    "    print('not related')\n",
    "    print('fail to reject H0')"
   ]
  },
  {
   "cell_type": "markdown",
   "metadata": {},
   "source": [
    "### Conclusions"
   ]
  },
  {
   "cell_type": "markdown",
   "metadata": {},
   "source": [
    "- Maximum Complaints get increased in block driveway and parking related location  \n",
    "- the average takes complains closed are 258 hours\n",
    "- Number of cases from Borough goes as following BROOKLYN , QUEENS , MANHATTAN , BRONX , STATEN ISLAND\n",
    "- Complaint Type are Depentent on Location Type.\n",
    "- Time taken for solving different complaint type are different\n",
    "- The Maximum based on the average ‘Request Closing Time’ are 815 hours on Woodside\n",
    "- Transport and Road related issues are taking more time to get resolved meanwhile  high number of complaints.\n"
   ]
  }
 ],
 "metadata": {
  "kernelspec": {
   "display_name": "Python 3",
   "language": "python",
   "name": "python3"
  },
  "language_info": {
   "codemirror_mode": {
    "name": "ipython",
    "version": 3
   },
   "file_extension": ".py",
   "mimetype": "text/x-python",
   "name": "python",
   "nbconvert_exporter": "python",
   "pygments_lexer": "ipython3",
   "version": "3.7.4"
  }
 },
 "nbformat": 4,
 "nbformat_minor": 2
}
